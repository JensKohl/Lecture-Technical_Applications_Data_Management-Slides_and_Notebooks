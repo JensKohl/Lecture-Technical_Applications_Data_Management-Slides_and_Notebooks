{
  "nbformat": 4,
  "nbformat_minor": 0,
  "metadata": {
    "colab": {
      "name": "VL 6 Supervised Learning Übungsaufgabe 3 - Mammography.ipynb",
      "provenance": [],
      "collapsed_sections": []
    },
    "kernelspec": {
      "name": "python3",
      "display_name": "Python 3"
    },
    "language_info": {
      "name": "python"
    }
  },
  "cells": [
    {
      "cell_type": "markdown",
      "source": [
        "# Case Study Mammography"
      ],
      "metadata": {
        "id": "JZIHo97JiEMH"
      }
    },
    {
      "cell_type": "markdown",
      "source": [
        "Ziel dieses Fallbeispiels ist das Erstellen eines Klassifikators für das Erkennen von Malinomen im Rahmen von Brustkrebserkennung. \n",
        "\n",
        "Die genaue Fragestellung, Datensatz und Erklärung Datensatz ist verfügbar unter [Link](https://archive.ics.uci.edu/ml/datasets/mammographic+mass)."
      ],
      "metadata": {
        "id": "fCjFW3wIiTiQ"
      }
    },
    {
      "cell_type": "markdown",
      "source": [
        "#1 Get the Data"
      ],
      "metadata": {
        "id": "agOgErjAjExd"
      }
    },
    {
      "cell_type": "code",
      "execution_count": 13,
      "metadata": {
        "id": "lxV0-3K_h44J"
      },
      "outputs": [],
      "source": [
        "# Laden der Standardbibliotheken\n",
        "import pandas as pd\n",
        "import numpy as np\n",
        "import sklearn"
      ]
    },
    {
      "cell_type": "markdown",
      "source": [
        "Hinweis: der orignale Datensatz hat keine expliziten Spaltennamen (bzw. keine Überschrift). Deshalb müssen wir beim Einlesen dies explizit programmieren"
      ],
      "metadata": {
        "id": "uk1qk8Zikbid"
      }
    },
    {
      "cell_type": "code",
      "source": [
        "df_Mammography = pd.read_csv(\"https://archive.ics.uci.edu/ml/machine-learning-databases/mammographic-masses/mammographic_masses.data\", # Pfad zum Datensatz\n",
        "                             sep = \",\", # einzelne Daten durch Komma getrennt\n",
        "                             header = None, # Datensatz hat keine Überschrift, deshalb None\n",
        "                             names = [\"BI-Rad\", \"Age\", \"Shape\", \"Margin\", \"Density\", \"Severity\"], # wir \"zwingen\" die Funktion folgende Namen für die Features zu verwenden\n",
        "                             na_values = \"?\") "
      ],
      "metadata": {
        "id": "u6CgKIJTjJ_G"
      },
      "execution_count": 34,
      "outputs": []
    },
    {
      "cell_type": "markdown",
      "source": [
        "# 2 Daten aufbereiten"
      ],
      "metadata": {
        "id": "eV9w5Fulqdfj"
      }
    },
    {
      "cell_type": "code",
      "source": [
        "df_Mammography"
      ],
      "metadata": {
        "colab": {
          "base_uri": "https://localhost:8080/",
          "height": 424
        },
        "id": "8oLaT8OfjTJQ",
        "outputId": "7e220653-868c-4bc0-9f06-c3453221236d"
      },
      "execution_count": 25,
      "outputs": [
        {
          "output_type": "execute_result",
          "data": {
            "text/plain": [
              "     BI-Rad   Age  Shape  Margin  Density  Severity\n",
              "0       5.0  67.0    3.0     5.0      3.0         1\n",
              "1       4.0  43.0    1.0     1.0      NaN         1\n",
              "2       5.0  58.0    4.0     5.0      3.0         1\n",
              "3       4.0  28.0    1.0     1.0      3.0         0\n",
              "4       5.0  74.0    1.0     5.0      NaN         1\n",
              "..      ...   ...    ...     ...      ...       ...\n",
              "956     4.0  47.0    2.0     1.0      3.0         0\n",
              "957     4.0  56.0    4.0     5.0      3.0         1\n",
              "958     4.0  64.0    4.0     5.0      3.0         0\n",
              "959     5.0  66.0    4.0     5.0      3.0         1\n",
              "960     4.0  62.0    3.0     3.0      3.0         0\n",
              "\n",
              "[961 rows x 6 columns]"
            ],
            "text/html": [
              "\n",
              "  <div id=\"df-c1aab619-3837-4038-952e-3f911cbdda16\">\n",
              "    <div class=\"colab-df-container\">\n",
              "      <div>\n",
              "<style scoped>\n",
              "    .dataframe tbody tr th:only-of-type {\n",
              "        vertical-align: middle;\n",
              "    }\n",
              "\n",
              "    .dataframe tbody tr th {\n",
              "        vertical-align: top;\n",
              "    }\n",
              "\n",
              "    .dataframe thead th {\n",
              "        text-align: right;\n",
              "    }\n",
              "</style>\n",
              "<table border=\"1\" class=\"dataframe\">\n",
              "  <thead>\n",
              "    <tr style=\"text-align: right;\">\n",
              "      <th></th>\n",
              "      <th>BI-Rad</th>\n",
              "      <th>Age</th>\n",
              "      <th>Shape</th>\n",
              "      <th>Margin</th>\n",
              "      <th>Density</th>\n",
              "      <th>Severity</th>\n",
              "    </tr>\n",
              "  </thead>\n",
              "  <tbody>\n",
              "    <tr>\n",
              "      <th>0</th>\n",
              "      <td>5.0</td>\n",
              "      <td>67.0</td>\n",
              "      <td>3.0</td>\n",
              "      <td>5.0</td>\n",
              "      <td>3.0</td>\n",
              "      <td>1</td>\n",
              "    </tr>\n",
              "    <tr>\n",
              "      <th>1</th>\n",
              "      <td>4.0</td>\n",
              "      <td>43.0</td>\n",
              "      <td>1.0</td>\n",
              "      <td>1.0</td>\n",
              "      <td>NaN</td>\n",
              "      <td>1</td>\n",
              "    </tr>\n",
              "    <tr>\n",
              "      <th>2</th>\n",
              "      <td>5.0</td>\n",
              "      <td>58.0</td>\n",
              "      <td>4.0</td>\n",
              "      <td>5.0</td>\n",
              "      <td>3.0</td>\n",
              "      <td>1</td>\n",
              "    </tr>\n",
              "    <tr>\n",
              "      <th>3</th>\n",
              "      <td>4.0</td>\n",
              "      <td>28.0</td>\n",
              "      <td>1.0</td>\n",
              "      <td>1.0</td>\n",
              "      <td>3.0</td>\n",
              "      <td>0</td>\n",
              "    </tr>\n",
              "    <tr>\n",
              "      <th>4</th>\n",
              "      <td>5.0</td>\n",
              "      <td>74.0</td>\n",
              "      <td>1.0</td>\n",
              "      <td>5.0</td>\n",
              "      <td>NaN</td>\n",
              "      <td>1</td>\n",
              "    </tr>\n",
              "    <tr>\n",
              "      <th>...</th>\n",
              "      <td>...</td>\n",
              "      <td>...</td>\n",
              "      <td>...</td>\n",
              "      <td>...</td>\n",
              "      <td>...</td>\n",
              "      <td>...</td>\n",
              "    </tr>\n",
              "    <tr>\n",
              "      <th>956</th>\n",
              "      <td>4.0</td>\n",
              "      <td>47.0</td>\n",
              "      <td>2.0</td>\n",
              "      <td>1.0</td>\n",
              "      <td>3.0</td>\n",
              "      <td>0</td>\n",
              "    </tr>\n",
              "    <tr>\n",
              "      <th>957</th>\n",
              "      <td>4.0</td>\n",
              "      <td>56.0</td>\n",
              "      <td>4.0</td>\n",
              "      <td>5.0</td>\n",
              "      <td>3.0</td>\n",
              "      <td>1</td>\n",
              "    </tr>\n",
              "    <tr>\n",
              "      <th>958</th>\n",
              "      <td>4.0</td>\n",
              "      <td>64.0</td>\n",
              "      <td>4.0</td>\n",
              "      <td>5.0</td>\n",
              "      <td>3.0</td>\n",
              "      <td>0</td>\n",
              "    </tr>\n",
              "    <tr>\n",
              "      <th>959</th>\n",
              "      <td>5.0</td>\n",
              "      <td>66.0</td>\n",
              "      <td>4.0</td>\n",
              "      <td>5.0</td>\n",
              "      <td>3.0</td>\n",
              "      <td>1</td>\n",
              "    </tr>\n",
              "    <tr>\n",
              "      <th>960</th>\n",
              "      <td>4.0</td>\n",
              "      <td>62.0</td>\n",
              "      <td>3.0</td>\n",
              "      <td>3.0</td>\n",
              "      <td>3.0</td>\n",
              "      <td>0</td>\n",
              "    </tr>\n",
              "  </tbody>\n",
              "</table>\n",
              "<p>961 rows × 6 columns</p>\n",
              "</div>\n",
              "      <button class=\"colab-df-convert\" onclick=\"convertToInteractive('df-c1aab619-3837-4038-952e-3f911cbdda16')\"\n",
              "              title=\"Convert this dataframe to an interactive table.\"\n",
              "              style=\"display:none;\">\n",
              "        \n",
              "  <svg xmlns=\"http://www.w3.org/2000/svg\" height=\"24px\"viewBox=\"0 0 24 24\"\n",
              "       width=\"24px\">\n",
              "    <path d=\"M0 0h24v24H0V0z\" fill=\"none\"/>\n",
              "    <path d=\"M18.56 5.44l.94 2.06.94-2.06 2.06-.94-2.06-.94-.94-2.06-.94 2.06-2.06.94zm-11 1L8.5 8.5l.94-2.06 2.06-.94-2.06-.94L8.5 2.5l-.94 2.06-2.06.94zm10 10l.94 2.06.94-2.06 2.06-.94-2.06-.94-.94-2.06-.94 2.06-2.06.94z\"/><path d=\"M17.41 7.96l-1.37-1.37c-.4-.4-.92-.59-1.43-.59-.52 0-1.04.2-1.43.59L10.3 9.45l-7.72 7.72c-.78.78-.78 2.05 0 2.83L4 21.41c.39.39.9.59 1.41.59.51 0 1.02-.2 1.41-.59l7.78-7.78 2.81-2.81c.8-.78.8-2.07 0-2.86zM5.41 20L4 18.59l7.72-7.72 1.47 1.35L5.41 20z\"/>\n",
              "  </svg>\n",
              "      </button>\n",
              "      \n",
              "  <style>\n",
              "    .colab-df-container {\n",
              "      display:flex;\n",
              "      flex-wrap:wrap;\n",
              "      gap: 12px;\n",
              "    }\n",
              "\n",
              "    .colab-df-convert {\n",
              "      background-color: #E8F0FE;\n",
              "      border: none;\n",
              "      border-radius: 50%;\n",
              "      cursor: pointer;\n",
              "      display: none;\n",
              "      fill: #1967D2;\n",
              "      height: 32px;\n",
              "      padding: 0 0 0 0;\n",
              "      width: 32px;\n",
              "    }\n",
              "\n",
              "    .colab-df-convert:hover {\n",
              "      background-color: #E2EBFA;\n",
              "      box-shadow: 0px 1px 2px rgba(60, 64, 67, 0.3), 0px 1px 3px 1px rgba(60, 64, 67, 0.15);\n",
              "      fill: #174EA6;\n",
              "    }\n",
              "\n",
              "    [theme=dark] .colab-df-convert {\n",
              "      background-color: #3B4455;\n",
              "      fill: #D2E3FC;\n",
              "    }\n",
              "\n",
              "    [theme=dark] .colab-df-convert:hover {\n",
              "      background-color: #434B5C;\n",
              "      box-shadow: 0px 1px 3px 1px rgba(0, 0, 0, 0.15);\n",
              "      filter: drop-shadow(0px 1px 2px rgba(0, 0, 0, 0.3));\n",
              "      fill: #FFFFFF;\n",
              "    }\n",
              "  </style>\n",
              "\n",
              "      <script>\n",
              "        const buttonEl =\n",
              "          document.querySelector('#df-c1aab619-3837-4038-952e-3f911cbdda16 button.colab-df-convert');\n",
              "        buttonEl.style.display =\n",
              "          google.colab.kernel.accessAllowed ? 'block' : 'none';\n",
              "\n",
              "        async function convertToInteractive(key) {\n",
              "          const element = document.querySelector('#df-c1aab619-3837-4038-952e-3f911cbdda16');\n",
              "          const dataTable =\n",
              "            await google.colab.kernel.invokeFunction('convertToInteractive',\n",
              "                                                     [key], {});\n",
              "          if (!dataTable) return;\n",
              "\n",
              "          const docLinkHtml = 'Like what you see? Visit the ' +\n",
              "            '<a target=\"_blank\" href=https://colab.research.google.com/notebooks/data_table.ipynb>data table notebook</a>'\n",
              "            + ' to learn more about interactive tables.';\n",
              "          element.innerHTML = '';\n",
              "          dataTable['output_type'] = 'display_data';\n",
              "          await google.colab.output.renderOutput(dataTable, element);\n",
              "          const docLink = document.createElement('div');\n",
              "          docLink.innerHTML = docLinkHtml;\n",
              "          element.appendChild(docLink);\n",
              "        }\n",
              "      </script>\n",
              "    </div>\n",
              "  </div>\n",
              "  "
            ]
          },
          "metadata": {},
          "execution_count": 25
        }
      ]
    },
    {
      "cell_type": "code",
      "source": [
        "df_Mammography.dtypes"
      ],
      "metadata": {
        "colab": {
          "base_uri": "https://localhost:8080/"
        },
        "id": "4hegk0d6jUBd",
        "outputId": "bfa527aa-854a-4ef5-ef36-684547826489"
      },
      "execution_count": 26,
      "outputs": [
        {
          "output_type": "execute_result",
          "data": {
            "text/plain": [
              "BI-Rad      float64\n",
              "Age         float64\n",
              "Shape       float64\n",
              "Margin      float64\n",
              "Density     float64\n",
              "Severity      int64\n",
              "dtype: object"
            ]
          },
          "metadata": {},
          "execution_count": 26
        }
      ]
    },
    {
      "cell_type": "code",
      "source": [
        "df_Mammography.isna().sum()"
      ],
      "metadata": {
        "colab": {
          "base_uri": "https://localhost:8080/"
        },
        "id": "j9sx2Ckhk2Ot",
        "outputId": "6c0cc7d0-5a87-417c-b43a-525a3221aed6"
      },
      "execution_count": 35,
      "outputs": [
        {
          "output_type": "execute_result",
          "data": {
            "text/plain": [
              "BI-Rad       2\n",
              "Age          5\n",
              "Shape       31\n",
              "Margin      48\n",
              "Density     76\n",
              "Severity     0\n",
              "dtype: int64"
            ]
          },
          "metadata": {},
          "execution_count": 35
        }
      ]
    },
    {
      "cell_type": "markdown",
      "source": [
        "Wir sehen, daß wir einige Zeilen mit fehlenden Werten haben. Für unser Beispiel - und da wir uns bisher Imputing (d.h. wie man mit fehlenden Werten am besten umgeht) noch nicht angesehen haben - löschen wir die Zeilen mit 0."
      ],
      "metadata": {
        "id": "Bgph5IR6ohsx"
      }
    },
    {
      "cell_type": "code",
      "source": [
        "df_Mammography_cl = df_Mammography.dropna(axis = 0) # wir speichern den reduzierten Datensatz in einen neuen Datensatz"
      ],
      "metadata": {
        "id": "l_kLCZ0sogzR"
      },
      "execution_count": 36,
      "outputs": []
    },
    {
      "cell_type": "markdown",
      "source": [
        "Wir haben 131 Zeilen, also schon ein großes Stück verloren. Deshalb sollte in der Praxis - gerade in so einem Themenumfeld - sich eine andere Lösung überlegen...."
      ],
      "metadata": {
        "id": "QATqhf_do2tR"
      }
    },
    {
      "cell_type": "code",
      "source": [
        "df_Mammography_cl.isna().sum()"
      ],
      "metadata": {
        "colab": {
          "base_uri": "https://localhost:8080/"
        },
        "id": "ncHIvjbDm273",
        "outputId": "fab963ba-761e-4b33-80a0-ca49c5676862"
      },
      "execution_count": 37,
      "outputs": [
        {
          "output_type": "execute_result",
          "data": {
            "text/plain": [
              "BI-Rad      0\n",
              "Age         0\n",
              "Shape       0\n",
              "Margin      0\n",
              "Density     0\n",
              "Severity    0\n",
              "dtype: int64"
            ]
          },
          "metadata": {},
          "execution_count": 37
        }
      ]
    },
    {
      "cell_type": "code",
      "source": [
        "df_Mammography_cl.dtypes"
      ],
      "metadata": {
        "colab": {
          "base_uri": "https://localhost:8080/"
        },
        "id": "uBIF-GEcoeBS",
        "outputId": "79513d1c-2319-4b7a-ded8-932ae48faa12"
      },
      "execution_count": 38,
      "outputs": [
        {
          "output_type": "execute_result",
          "data": {
            "text/plain": [
              "BI-Rad      float64\n",
              "Age         float64\n",
              "Shape       float64\n",
              "Margin      float64\n",
              "Density     float64\n",
              "Severity      int64\n",
              "dtype: object"
            ]
          },
          "metadata": {},
          "execution_count": 38
        }
      ]
    },
    {
      "cell_type": "markdown",
      "source": [
        "Wir wandeln jetzt noch diese Spalten alle von Float/ Gleitzahl in integer um"
      ],
      "metadata": {
        "id": "ldZIBZdtpnYD"
      }
    },
    {
      "cell_type": "code",
      "source": [
        "df_Mammography_cl = df_Mammography_cl.astype(int)\n",
        "# alternativ hätten wir jede Spalte so umwandeln müssen:\n",
        "#df_Mammography_cl['Age'] = df_Mammography_cl['Age'].astype('int64')"
      ],
      "metadata": {
        "id": "FF-EFcSrpnC4"
      },
      "execution_count": 40,
      "outputs": []
    },
    {
      "cell_type": "code",
      "source": [
        "df_Mammography_cl.dtypes"
      ],
      "metadata": {
        "colab": {
          "base_uri": "https://localhost:8080/"
        },
        "id": "G0-ozeVZpjWa",
        "outputId": "984d82d6-4361-4d5a-9f62-70992e5a9be1"
      },
      "execution_count": 41,
      "outputs": [
        {
          "output_type": "execute_result",
          "data": {
            "text/plain": [
              "BI-Rad      int64\n",
              "Age         int64\n",
              "Shape       int64\n",
              "Margin      int64\n",
              "Density     int64\n",
              "Severity    int64\n",
              "dtype: object"
            ]
          },
          "metadata": {},
          "execution_count": 41
        }
      ]
    },
    {
      "cell_type": "markdown",
      "source": [
        "Man sieht, es hat funktioniert."
      ],
      "metadata": {
        "id": "B00rGOIYqV7G"
      }
    },
    {
      "cell_type": "markdown",
      "source": [
        "# 3 Daten aufteilen in Test- und Trainingsmenge"
      ],
      "metadata": {
        "id": "DXnYz9bbqw95"
      }
    },
    {
      "cell_type": "markdown",
      "source": [
        "Wir erstellen zuerst eine Matrix X mit allen Features und einen Vektor y mit dem Label, severity"
      ],
      "metadata": {
        "id": "0wvikxXOq0_A"
      }
    },
    {
      "cell_type": "code",
      "source": [
        "y = df_Mammography_cl[\"Severity\"] # Speichere die gesamte Spalte Severity in y\n",
        "X = df_Mammography_cl.iloc[:, :-1] # diese Variante empfiehlt sich v.a. bei vielen Spalten. Der Code sagt wörtlich: nehme alle Zeilen und alle Spalten bis auf die 1 vor der letzten Spalte (sogenannte slicing)"
      ],
      "metadata": {
        "id": "OxrEz50fqSyW"
      },
      "execution_count": 49,
      "outputs": []
    },
    {
      "cell_type": "code",
      "source": [
        "print(df_Mammography_cl.shape)\n",
        "print(X.shape)\n",
        "print(y.shape)"
      ],
      "metadata": {
        "colab": {
          "base_uri": "https://localhost:8080/"
        },
        "id": "N5Oj6b0TrATL",
        "outputId": "4118e504-7a7c-4b03-ad46-adf1d6fff892"
      },
      "execution_count": 54,
      "outputs": [
        {
          "output_type": "stream",
          "name": "stdout",
          "text": [
            "(830, 6)\n",
            "(830, 5)\n",
            "(830,)\n"
          ]
        }
      ]
    },
    {
      "cell_type": "markdown",
      "source": [
        "Wir sehen, daß wir die Ausgangstabelle mit 830 Zeilen und 6 Spalten in eine Matrix mit 830 Zeilen und 5 Features sowie einen Vektor mit 830 Zeilen aufgeteilt haben."
      ],
      "metadata": {
        "id": "5wMEVbarsHZ8"
      }
    },
    {
      "cell_type": "code",
      "source": [
        "print(X)"
      ],
      "metadata": {
        "colab": {
          "base_uri": "https://localhost:8080/"
        },
        "id": "D1neHcBprCHT",
        "outputId": "a5584c41-a280-48ba-c008-a284fe4d6f9d"
      },
      "execution_count": 55,
      "outputs": [
        {
          "output_type": "stream",
          "name": "stdout",
          "text": [
            "     BI-Rad  Age  Shape  Margin  Density\n",
            "0         5   67      3       5        3\n",
            "2         5   58      4       5        3\n",
            "3         4   28      1       1        3\n",
            "8         5   57      1       5        3\n",
            "10        5   76      1       4        3\n",
            "..      ...  ...    ...     ...      ...\n",
            "956       4   47      2       1        3\n",
            "957       4   56      4       5        3\n",
            "958       4   64      4       5        3\n",
            "959       5   66      4       5        3\n",
            "960       4   62      3       3        3\n",
            "\n",
            "[830 rows x 5 columns]\n"
          ]
        }
      ]
    },
    {
      "cell_type": "markdown",
      "source": [
        "Ab jetzt können Sie anfangen, beginnend mit der Einteilung in Test und Trainingsmenge"
      ],
      "metadata": {
        "id": "gSTZwQXIsnJh"
      }
    },
    {
      "cell_type": "code",
      "source": [
        "# TODO: Einteilen in Test- und Trainingsmenge mit der Funktion train_test_split von sklearn.model_selection\n"
      ],
      "metadata": {
        "id": "OUmGkk2Qsj16"
      },
      "execution_count": null,
      "outputs": []
    },
    {
      "cell_type": "markdown",
      "source": [
        "# 4 Machine Learning"
      ],
      "metadata": {
        "id": "SEiaOafCs9KT"
      }
    },
    {
      "cell_type": "markdown",
      "source": [
        "Wir definieren zuerst Hilfefunktionen, um die Genauigkeit auszudrucken"
      ],
      "metadata": {
        "id": "Xo4GCgyKtE3p"
      }
    },
    {
      "cell_type": "code",
      "source": [
        "from sklearn.metrics import mean_squared_error \n",
        "from sklearn.metrics import classification_report\n",
        "from sklearn.metrics import confusion_matrix\n",
        "from sklearn.metrics import accuracy_score\n",
        "from sklearn.metrics import plot_confusion_matrix\n",
        "\n",
        "def Model_accuracy(predicted_y_values, real_y_values):\n",
        "  print(confusion_matrix(real_y_values, predicted_y_values)) #Confusion Matrix\n",
        "  print(classification_report(real_y_values, predicted_y_values)) # Print summary report\n",
        "  print('accuracy is ',accuracy_score(predicted_y_values, real_y_values)) # Print accuracy score"
      ],
      "metadata": {
        "id": "QCxqdB_vtBGx"
      },
      "execution_count": null,
      "outputs": []
    },
    {
      "cell_type": "markdown",
      "source": [
        "## 4.1 Simple Machine Learning Verfahren\n",
        "\n",
        "Probieren Sie verschiedene Verfahren aus wie bspw.:\n",
        "* Decision Tree\n",
        "* Linear Regression\n",
        "* SVM\n",
        "* Bayes"
      ],
      "metadata": {
        "id": "xr6W30jUtN1q"
      }
    },
    {
      "cell_type": "code",
      "source": [
        ""
      ],
      "metadata": {
        "id": "MdkTv8OFtSnN"
      },
      "execution_count": null,
      "outputs": []
    },
    {
      "cell_type": "markdown",
      "source": [
        "## 4.2 Ensemble Learning\n",
        "\n",
        "Probieren Sie folgende Verfahren aus:\n",
        "* Random Forest \n",
        "* XGBoost"
      ],
      "metadata": {
        "id": "XvRBMrKCtc1g"
      }
    },
    {
      "cell_type": "code",
      "source": [
        ""
      ],
      "metadata": {
        "id": "Nt-h20r7tr5S"
      },
      "execution_count": null,
      "outputs": []
    },
    {
      "cell_type": "markdown",
      "source": [
        "Drucken Sie die Feature Importance des Models aus, um zu sehen, welche Features am wichtigsten sind"
      ],
      "metadata": {
        "id": "QrOU7qaktzpC"
      }
    },
    {
      "cell_type": "code",
      "source": [
        "# Ersetzen Sie aber in der nächsten Zeile random_forest durch den Namen Ihres Modells\n",
        "importances = pd.DataFrame({'feature':X_train.columns,'importance':np.round(random_forest.feature_importances_,3)})\n",
        "importances = importances.sort_values('importance',ascending=False).set_index('feature')"
      ],
      "metadata": {
        "id": "LFNDHFHBuI6R"
      },
      "execution_count": null,
      "outputs": []
    },
    {
      "cell_type": "markdown",
      "source": [
        "# 5 Modell im Einsatz"
      ],
      "metadata": {
        "id": "uCDbcuOAtyrS"
      }
    },
    {
      "cell_type": "code",
      "source": [
        "# BI-Rad  Age  Shape  Margin  Density\n",
        "TestPerson1 = [[4,30,2,3,4]\n",
        "TestPerson2 = [[2,45,3,1,5]]\n",
        "\n",
        "# Ersetzen Sie hier den Namen logmodel durch den Namen Ihres Models\n",
        "print(\"Prädiktion Ergebnis Testperson 1\", logmodel.predict(TestPerson1))\n",
        "print(\"Prädiktion Ergebnis Testperson 2\", logmodel.predict(TestPerson2))"
      ],
      "metadata": {
        "id": "D0Gz0QLPuUuz"
      },
      "execution_count": null,
      "outputs": []
    }
  ]
}