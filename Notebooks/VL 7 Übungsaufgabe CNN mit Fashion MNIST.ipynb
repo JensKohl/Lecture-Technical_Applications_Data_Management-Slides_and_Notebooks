{
  "nbformat": 4,
  "nbformat_minor": 0,
  "metadata": {
    "colab": {
      "name": "VL 7 Übungsaufgabe CNN mit Fashion MNIST-Update 2022.ipynb",
      "provenance": [],
      "collapsed_sections": []
    },
    "kernelspec": {
      "name": "python3",
      "display_name": "Python 3"
    },
    "language_info": {
      "name": "python"
    },
    "accelerator": "GPU"
  },
  "cells": [
    {
      "cell_type": "markdown",
      "metadata": {
        "id": "MVR4Z7LQiDtH"
      },
      "source": [
        "# CNN mit \"Fashion MNIST\""
      ]
    },
    {
      "cell_type": "markdown",
      "metadata": {
        "id": "0IWu_a9piiP9"
      },
      "source": [
        "Zum Üben von CNN schauen wir uns ein Fallbeispiel an. Sehr häufig wird das Erkennen von handschriftlich geschriebenen Ziffern als Fallbeispiel genommen, das sogenannte **MNIST**-Beispiel.\n",
        "\n",
        "Hier wollen wir uns ein ähnliches Beispiel anschauen, das aber umfangreicher und schwieriger ist, das sogenannte **Fashion-MNIST** von Zalando [Link](https://github.com/zalandoresearch/fashion-mnist).\n",
        "\n",
        "Aufgabe ist es, anhand von 60000 Trainings- und 10000 schwarz-weißen Testbildern in Format 28x28 Pixeln einen Klassifikator zu trainieren, der in der Lage ist, ein Bild in eine von 10 Klassen für Modeartikeln einzuteilen."
      ]
    },
    {
      "cell_type": "markdown",
      "metadata": {
        "id": "yhHGBObji4Vk"
      },
      "source": [
        "## 1. Daten einlesen"
      ]
    },
    {
      "cell_type": "code",
      "metadata": {
        "id": "SwYIeEP9h_-5"
      },
      "source": [
        "import numpy as np\n",
        "import pandas as pd\n",
        "import tensorflow as tf"
      ],
      "execution_count": 1,
      "outputs": []
    },
    {
      "cell_type": "code",
      "metadata": {
        "id": "BeZWFFw1i9wv",
        "colab": {
          "base_uri": "https://localhost:8080/"
        },
        "outputId": "866721db-c4f2-41f6-fe55-2574fc7b5b8a"
      },
      "source": [
        "from tensorflow.keras.datasets import fashion_mnist  # Fashion_MNIST ist ein beispielhafter Datensatz der TensorFlow-Library\n",
        "(X_train, y_train), (X_test, y_test) = fashion_mnist.load_data()"
      ],
      "execution_count": 2,
      "outputs": [
        {
          "output_type": "stream",
          "name": "stdout",
          "text": [
            "Downloading data from https://storage.googleapis.com/tensorflow/tf-keras-datasets/train-labels-idx1-ubyte.gz\n",
            "32768/29515 [=================================] - 0s 0us/step\n",
            "40960/29515 [=========================================] - 0s 0us/step\n",
            "Downloading data from https://storage.googleapis.com/tensorflow/tf-keras-datasets/train-images-idx3-ubyte.gz\n",
            "26427392/26421880 [==============================] - 0s 0us/step\n",
            "26435584/26421880 [==============================] - 0s 0us/step\n",
            "Downloading data from https://storage.googleapis.com/tensorflow/tf-keras-datasets/t10k-labels-idx1-ubyte.gz\n",
            "16384/5148 [===============================================================================================] - 0s 0us/step\n",
            "Downloading data from https://storage.googleapis.com/tensorflow/tf-keras-datasets/t10k-images-idx3-ubyte.gz\n",
            "4423680/4422102 [==============================] - 0s 0us/step\n",
            "4431872/4422102 [==============================] - 0s 0us/step\n"
          ]
        }
      ]
    },
    {
      "cell_type": "code",
      "metadata": {
        "colab": {
          "base_uri": "https://localhost:8080/"
        },
        "id": "W3oOVQ8ejXOj",
        "outputId": "873ee438-4303-443a-8e4f-f28f8423257b"
      },
      "source": [
        "# Statistiken zum Datensatz ausgeben\n",
        "print(X_train.shape)\n",
        "print(y_train.shape)\n",
        "print(X_test.shape)\n",
        "print(y_test.shape)"
      ],
      "execution_count": 3,
      "outputs": [
        {
          "output_type": "stream",
          "name": "stdout",
          "text": [
            "(60000, 28, 28)\n",
            "(60000,)\n",
            "(10000, 28, 28)\n",
            "(10000,)\n"
          ]
        }
      ]
    },
    {
      "cell_type": "markdown",
      "metadata": {
        "id": "4jtAf9rPj1M1"
      },
      "source": [
        "Die Ausgaben zeigen, daß wir in der Trainingsmenge X_train 60'000 Bilder mit 28x28 Pixel haben und in der Testmenge 10'000."
      ]
    },
    {
      "cell_type": "markdown",
      "metadata": {
        "id": "EzO-Ia-WqHkq"
      },
      "source": [
        "Schauen wir uns die Labels an"
      ]
    },
    {
      "cell_type": "code",
      "metadata": {
        "colab": {
          "base_uri": "https://localhost:8080/"
        },
        "id": "qYHb-PXnqB78",
        "outputId": "104c559f-0dbd-4189-f72b-9c419bf4630e"
      },
      "source": [
        "print(np.unique(y_train))"
      ],
      "execution_count": 4,
      "outputs": [
        {
          "output_type": "stream",
          "name": "stdout",
          "text": [
            "[0 1 2 3 4 5 6 7 8 9]\n"
          ]
        }
      ]
    },
    {
      "cell_type": "markdown",
      "metadata": {
        "id": "ItBtbumEpsJJ"
      },
      "source": [
        "Da wir für die Zielklassen nur Zahlen und keine Namen haben, speichern wir diese separat."
      ]
    },
    {
      "cell_type": "code",
      "metadata": {
        "id": "nKSPXhxOpodX"
      },
      "source": [
        "class_names = ['T-shirt/ Top',\n",
        "               'Hose', \n",
        "               'Pullover', \n",
        "               'Kleid', \n",
        "               'Mantel',\n",
        "               'Sandale',\n",
        "               'Hemd',\n",
        "               'Sneaker', \n",
        "               'Tasche', \n",
        "               'Stiefel']"
      ],
      "execution_count": 5,
      "outputs": []
    },
    {
      "cell_type": "markdown",
      "metadata": {
        "id": "kVxGYNzxmcgQ"
      },
      "source": [
        "Wir lassen in diesem Notebook Image Augmentation aus. In diesem Notebook geht es mehr darum, daß Sie mit den Hyperparametern experimentieren und sehen, wie die Struktur eines CNN Auswirkungen auf die Genauigkeit des Lernens hat.\n",
        "\n",
        "Deshalb normalisieren wir nur die Bilder als einzige \"Augmentation\"."
      ]
    },
    {
      "cell_type": "code",
      "metadata": {
        "id": "6MV3VtkMq18X"
      },
      "source": [
        "X_train = X_train / 255.0\n",
        "X_test = X_test / 255.0"
      ],
      "execution_count": 6,
      "outputs": []
    },
    {
      "cell_type": "markdown",
      "metadata": {
        "id": "Gb_QQI3erGdp"
      },
      "source": [
        "Schauen wir uns nun die Bilder mal an. Und geben dazu das Label aus"
      ]
    },
    {
      "cell_type": "code",
      "metadata": {
        "colab": {
          "base_uri": "https://localhost:8080/",
          "height": 480
        },
        "id": "nlj35Jr4juMX",
        "outputId": "70d0e1f3-cd13-4c86-fe52-613f05ccf419"
      },
      "source": [
        "import matplotlib.pyplot as plt\n",
        "\n",
        "number_cols = 4\n",
        "number_rows = 4\n",
        "run_index = 0\n",
        "\n",
        "plt.figure(1 , figsize = (8 , 8))\n",
        "\n",
        "for i in range(number_cols * number_rows):\n",
        "  run_index += 1\n",
        "  cur_plot = plt.subplot(number_cols, number_rows, run_index)\n",
        "  plt.xticks([])\n",
        "  plt.yticks([])\n",
        "  plt.grid(False)\n",
        "\n",
        "  pic_index = np.random.randint(0, 60000) # wähle ein zufälliges Bild\n",
        "  plt.imshow(X_train[pic_index], cmap=plt.get_cmap('gray')) \n",
        "  plt.xlabel(class_names[y_train[pic_index]])\n",
        "\n",
        "  #cur_plot.axis('Off') # Keine Achsen zeigen\n",
        "plt.show()"
      ],
      "execution_count": 7,
      "outputs": [
        {
          "output_type": "display_data",
          "data": {
            "image/png": "[encoded data removed]",
            "text/plain": [
              "<Figure size 576x576 with 16 Axes>"
            ]
          },
          "metadata": {}
        }
      ]
    },
    {
      "cell_type": "markdown",
      "metadata": {
        "id": "TCENfjoavCXD"
      },
      "source": [
        "Als letzten Schritt bauen wir noch schnell das Datenset um.\n",
        "Wir haben folgende Struktur von X_Train und X_Test:\n",
        "Anzahl Bilder * x_pixel * y_Pixel.\n",
        "\n",
        "Wir wollen eine zusätzliche Ebene für den grauen Farbkanal haben:\n",
        "Anzahl Bilder * x_pixel * y_Pixel * Farbkanal\n"
      ]
    },
    {
      "cell_type": "code",
      "metadata": {
        "id": "9W3ysgE8vHfX"
      },
      "source": [
        "X_train = X_train.reshape(60000, 28, 28, 1)\n",
        "X_test = X_test.reshape(10000, 28, 28, 1)"
      ],
      "execution_count": 8,
      "outputs": []
    },
    {
      "cell_type": "markdown",
      "metadata": {
        "id": "JqbKOY09mwvT"
      },
      "source": [
        "## 2. Machine Learning: Wir bauen ein CNN"
      ]
    },
    {
      "cell_type": "markdown",
      "metadata": {
        "id": "PSC1qQC4u-a-"
      },
      "source": [
        ""
      ]
    },
    {
      "cell_type": "code",
      "metadata": {
        "id": "NptksNMjk2GY"
      },
      "source": [
        "import tensorflow.keras   # Keras als Schnittstelle zu den \"komplizierteren Umfängen\"\n",
        "from tensorflow.keras import layers\n",
        "from tensorflow.keras import Model\n",
        "\n",
        "INPUT_SHAPE = (28,28, 1) # wie oben gezeigt, hat jedes Bild 28x28 Pixel. Da wir die Bilder nur in Graustaufen haben, gibt es zusätzlich nur 1 Kanal.\n",
        "\n",
        "num_target_classes = 10 # wir haben 10 Zielklassen\n",
        "\n",
        "# wir bauen den Input Layer. Jeder Pixel ist ein Input für das CNN.\n",
        "inp = tf.keras.layers.Input(shape=INPUT_SHAPE)\n",
        "\n",
        "# ab hier\n",
        "# wir bauen den ersten Bildverarbeitungs-Layer. Erst Faltung, dann Pooling, dann Droput\n",
        "conv1 = tf.keras.layers.Conv2D(128, kernel_size=(3, 3), activation='relu', padding='same')(inp)\n",
        "\n",
        "pool1 = tf.keras.layers.MaxPooling2D(pool_size=(2,2)) (conv1)\n",
        "drop1 = tf.keras.layers.Dropout(0.5) (pool1)\n",
        "\n",
        "# wir bauen den 2. Bildverarbeitungs-Layer. Erst Faltung, dann Pooling, dann Droput\n",
        "conv2 = tf.keras.layers.Conv2D(64, \n",
        "                               kernel_size=(3, 3), \n",
        "                               activation='relu',\n",
        "                               padding='same') (drop1)\n",
        "\n",
        "pool2 = tf.keras.layers.MaxPooling2D(pool_size=(2, 2))(conv2)\n",
        "#drop2 = tf.keras.layers.Dropout(0.5) (pool2)  # vor Flatten nimmt man kein Pooling. \n",
        "\n",
        "# nach dem 2. Bildverarbeitungs-Layer geben wir die Daten in ein \"normales\" CNN rein.\n",
        "flat = tf.keras.layers.Flatten()(pool2)\n",
        "\n",
        "# hier der erste Hidden Layer des CNN\n",
        "hidden1 = tf.keras.layers.Dense(512, activation='relu')(flat)\n",
        "drop3 = tf.keras.layers.Dropout(rate=0.5)(hidden1)\n",
        "\n",
        "# hier der zweite Hidden Layer des CNN\n",
        "hidden2 = tf.keras.layers.Dense(256, activation='relu')(drop3)\n",
        "drop4 = tf.keras.layers.Dropout(rate=0.5)(hidden2)\n",
        "\n",
        "# und hier gehts raus aus dem CNN. Wichtig ist die Wahl des Dense Layers und der Softmax-Aktivierungsfunktion. Diese brauchen wir, da wir mit dieser das Ergebnis klassifizieren können.\n",
        "# Als Ergebnis erhalten wir für jede mögliche Zielklasse einen Wert. Out erhält dann den Wert, der die höchste Wahrscheinlichkeit hat.\n",
        "out = tf.keras.layers.Dense(num_target_classes, activation='softmax')(drop4)\n",
        "\n",
        "# jetzt speichern wir die ganze Struktur in ein Modell\n",
        "model = tf.keras.Model(inputs=inp, outputs=out)"
      ],
      "execution_count": 9,
      "outputs": []
    },
    {
      "cell_type": "code",
      "metadata": {
        "colab": {
          "base_uri": "https://localhost:8080/"
        },
        "id": "xofjjkAKw4hr",
        "outputId": "17ba66d0-0e1d-4e92-ae10-00835fbad6d2"
      },
      "source": [
        "model.summary()"
      ],
      "execution_count": 10,
      "outputs": [
        {
          "output_type": "stream",
          "name": "stdout",
          "text": [
            "Model: \"model\"\n",
            "_________________________________________________________________\n",
            " Layer (type)                Output Shape              Param #   \n",
            "=================================================================\n",
            " input_1 (InputLayer)        [(None, 28, 28, 1)]       0         \n",
            "                                                                 \n",
            " conv2d (Conv2D)             (None, 28, 28, 128)       1280      \n",
            "                                                                 \n",
            " max_pooling2d (MaxPooling2D  (None, 14, 14, 128)      0         \n",
            " )                                                               \n",
            "                                                                 \n",
            " dropout (Dropout)           (None, 14, 14, 128)       0         \n",
            "                                                                 \n",
            " conv2d_1 (Conv2D)           (None, 14, 14, 64)        73792     \n",
            "                                                                 \n",
            " max_pooling2d_1 (MaxPooling  (None, 7, 7, 64)         0         \n",
            " 2D)                                                             \n",
            "                                                                 \n",
            " flatten (Flatten)           (None, 3136)              0         \n",
            "                                                                 \n",
            " dense (Dense)               (None, 512)               1606144   \n",
            "                                                                 \n",
            " dropout_1 (Dropout)         (None, 512)               0         \n",
            "                                                                 \n",
            " dense_1 (Dense)             (None, 256)               131328    \n",
            "                                                                 \n",
            " dropout_2 (Dropout)         (None, 256)               0         \n",
            "                                                                 \n",
            " dense_2 (Dense)             (None, 10)                2570      \n",
            "                                                                 \n",
            "=================================================================\n",
            "Total params: 1,815,114\n",
            "Trainable params: 1,815,114\n",
            "Non-trainable params: 0\n",
            "_________________________________________________________________\n"
          ]
        }
      ]
    },
    {
      "cell_type": "markdown",
      "metadata": {
        "id": "8VBrQDmlwn1L"
      },
      "source": [
        "Nachdem wir das Modell gebaut haben, definieren wir jetzt die Hyperparameter\n",
        "\n",
        "* Batch_size: wie viele Samples werden aus der Trainingsmenge genommen bevor die Gewichte und Bias des Modells angepaßt werden. Im unteren Fall heißt das, nach 256 Bildern passen wir die Gewichte an.\n",
        "* Epochen: wie viele Durchläufe durch das gesamte Datenset werden gemacht.\n",
        "* Learning_rate: Geschwindigkeit mit der das Modell lernt. Genauer gesagt stellt es die Schrittweite dar, die bei jeder Iteration gegangen wird, um das Minimum der Loss-Funktion zu erreichen.\n",
        "* Optimizer: Algorithmus der eingesetzt wird, um die Gewichte und Bias so zu reduzieren, daß die Loss-Funktion minimiert wird.\n",
        "\n",
        "Diese Parameter ermöglichen deutliche Verbesserungen des Ergebnisses und stehen auch miteinander in Verbindung (bspw. small batch size sollte mit niedriger Lernrate kombiniert werden).\n",
        "\n",
        "Nachdem wir das gemacht haben, starten wir das Trainieren des Models."
      ]
    },
    {
      "cell_type": "code",
      "metadata": {
        "id": "_9xsG7a9pPgH"
      },
      "source": [
        "BATCH_SIZE = 256\n",
        "EPOCHS = 30 # für Testzwecke nicht mehr als 30 nehmen\n",
        "INIT_LEARNING_RATE = 0.001\n",
        "\n",
        "opt = tf.keras.optimizers.Adam(learning_rate = INIT_LEARNING_RATE,\n",
        "                                     decay=INIT_LEARNING_RATE / EPOCHS)\n",
        "\n",
        "model.compile(optimizer=opt, \n",
        "              loss = 'sparse_categorical_crossentropy', \n",
        "              metrics = ['accuracy'])"
      ],
      "execution_count": 11,
      "outputs": []
    },
    {
      "cell_type": "markdown",
      "metadata": {
        "id": "_yCIYORlxHNg"
      },
      "source": [
        "Jetzt definieren wir die Trainingsparameter"
      ]
    },
    {
      "cell_type": "code",
      "metadata": {
        "colab": {
          "base_uri": "https://localhost:8080/"
        },
        "id": "oMrAkjxZw5KS",
        "outputId": "5059fcce-70ab-48fb-a69d-41c31c148717"
      },
      "source": [
        "history = model.fit(x=X_train,\n",
        "                    y= y_train,\n",
        "                    validation_data = (X_test, y_test),\n",
        "                    batch_size=BATCH_SIZE,\n",
        "                    epochs = EPOCHS,\n",
        "                    use_multiprocessing=True)"
      ],
      "execution_count": 12,
      "outputs": [
        {
          "output_type": "stream",
          "name": "stdout",
          "text": [
            "Epoch 1/30\n",
            "235/235 [==============================] - 21s 35ms/step - loss: 0.6817 - accuracy: 0.7479 - val_loss: 0.3866 - val_accuracy: 0.8563\n",
            "Epoch 2/30\n",
            "235/235 [==============================] - 8s 34ms/step - loss: 0.3937 - accuracy: 0.8602 - val_loss: 0.3529 - val_accuracy: 0.8687\n",
            "Epoch 3/30\n",
            "235/235 [==============================] - 8s 34ms/step - loss: 0.3412 - accuracy: 0.8765 - val_loss: 0.2981 - val_accuracy: 0.8911\n",
            "Epoch 4/30\n",
            "235/235 [==============================] - 8s 34ms/step - loss: 0.3036 - accuracy: 0.8900 - val_loss: 0.2716 - val_accuracy: 0.9006\n",
            "Epoch 5/30\n",
            "235/235 [==============================] - 8s 34ms/step - loss: 0.2785 - accuracy: 0.8986 - val_loss: 0.2570 - val_accuracy: 0.9082\n",
            "Epoch 6/30\n",
            "235/235 [==============================] - 8s 34ms/step - loss: 0.2626 - accuracy: 0.9043 - val_loss: 0.2509 - val_accuracy: 0.9093\n",
            "Epoch 7/30\n",
            "235/235 [==============================] - 8s 34ms/step - loss: 0.2443 - accuracy: 0.9106 - val_loss: 0.2404 - val_accuracy: 0.9090\n",
            "Epoch 8/30\n",
            "235/235 [==============================] - 8s 34ms/step - loss: 0.2327 - accuracy: 0.9144 - val_loss: 0.2379 - val_accuracy: 0.9137\n",
            "Epoch 9/30\n",
            "235/235 [==============================] - 8s 34ms/step - loss: 0.2213 - accuracy: 0.9187 - val_loss: 0.2251 - val_accuracy: 0.9202\n",
            "Epoch 10/30\n",
            "235/235 [==============================] - 8s 34ms/step - loss: 0.2134 - accuracy: 0.9222 - val_loss: 0.2264 - val_accuracy: 0.9201\n",
            "Epoch 11/30\n",
            "235/235 [==============================] - 8s 34ms/step - loss: 0.1987 - accuracy: 0.9259 - val_loss: 0.2222 - val_accuracy: 0.9197\n",
            "Epoch 12/30\n",
            "235/235 [==============================] - 8s 34ms/step - loss: 0.1914 - accuracy: 0.9290 - val_loss: 0.2198 - val_accuracy: 0.9224\n",
            "Epoch 13/30\n",
            "235/235 [==============================] - 8s 34ms/step - loss: 0.1822 - accuracy: 0.9336 - val_loss: 0.2352 - val_accuracy: 0.9177\n",
            "Epoch 14/30\n",
            "235/235 [==============================] - 8s 34ms/step - loss: 0.1767 - accuracy: 0.9352 - val_loss: 0.2358 - val_accuracy: 0.9163\n",
            "Epoch 15/30\n",
            "235/235 [==============================] - 8s 34ms/step - loss: 0.1691 - accuracy: 0.9379 - val_loss: 0.2167 - val_accuracy: 0.9242\n",
            "Epoch 16/30\n",
            "235/235 [==============================] - 8s 33ms/step - loss: 0.1641 - accuracy: 0.9392 - val_loss: 0.2242 - val_accuracy: 0.9260\n",
            "Epoch 17/30\n",
            "235/235 [==============================] - 8s 34ms/step - loss: 0.1554 - accuracy: 0.9411 - val_loss: 0.2279 - val_accuracy: 0.9252\n",
            "Epoch 18/30\n",
            "235/235 [==============================] - 8s 34ms/step - loss: 0.1465 - accuracy: 0.9450 - val_loss: 0.2168 - val_accuracy: 0.9276\n",
            "Epoch 19/30\n",
            "235/235 [==============================] - 8s 34ms/step - loss: 0.1455 - accuracy: 0.9453 - val_loss: 0.2261 - val_accuracy: 0.9277\n",
            "Epoch 20/30\n",
            "235/235 [==============================] - 8s 34ms/step - loss: 0.1414 - accuracy: 0.9483 - val_loss: 0.2227 - val_accuracy: 0.9265\n",
            "Epoch 21/30\n",
            "235/235 [==============================] - 8s 34ms/step - loss: 0.1353 - accuracy: 0.9495 - val_loss: 0.2367 - val_accuracy: 0.9235\n",
            "Epoch 22/30\n",
            "235/235 [==============================] - 8s 34ms/step - loss: 0.1291 - accuracy: 0.9517 - val_loss: 0.2414 - val_accuracy: 0.9292\n",
            "Epoch 23/30\n",
            "235/235 [==============================] - 8s 34ms/step - loss: 0.1247 - accuracy: 0.9530 - val_loss: 0.2298 - val_accuracy: 0.9298\n",
            "Epoch 24/30\n",
            "235/235 [==============================] - 8s 34ms/step - loss: 0.1197 - accuracy: 0.9548 - val_loss: 0.2442 - val_accuracy: 0.9295\n",
            "Epoch 25/30\n",
            "235/235 [==============================] - 8s 34ms/step - loss: 0.1211 - accuracy: 0.9543 - val_loss: 0.2332 - val_accuracy: 0.9286\n",
            "Epoch 26/30\n",
            "235/235 [==============================] - 8s 34ms/step - loss: 0.1155 - accuracy: 0.9569 - val_loss: 0.2464 - val_accuracy: 0.9280\n",
            "Epoch 27/30\n",
            "235/235 [==============================] - 8s 34ms/step - loss: 0.1119 - accuracy: 0.9584 - val_loss: 0.2339 - val_accuracy: 0.9304\n",
            "Epoch 28/30\n",
            "235/235 [==============================] - 8s 34ms/step - loss: 0.1071 - accuracy: 0.9597 - val_loss: 0.2249 - val_accuracy: 0.9321\n",
            "Epoch 29/30\n",
            "235/235 [==============================] - 8s 33ms/step - loss: 0.1066 - accuracy: 0.9601 - val_loss: 0.2410 - val_accuracy: 0.9305\n",
            "Epoch 30/30\n",
            "235/235 [==============================] - 8s 34ms/step - loss: 0.1015 - accuracy: 0.9618 - val_loss: 0.2461 - val_accuracy: 0.9317\n"
          ]
        }
      ]
    },
    {
      "cell_type": "markdown",
      "metadata": {
        "id": "IqcHqkjqy8a8"
      },
      "source": [
        "Nach dem Training schauen wir uns jetzt an, wie hoch die Genauigkeit ist."
      ]
    },
    {
      "cell_type": "code",
      "metadata": {
        "colab": {
          "base_uri": "https://localhost:8080/",
          "height": 281
        },
        "id": "D4Xfdu5Xyojo",
        "outputId": "6141ed39-3c14-4be7-8ea8-6559f23706c5"
      },
      "source": [
        "# Plotte Genauigkeit\n",
        "plt.title('Genauigkeit Klassifizierung')\n",
        "plt.plot(history.history['accuracy'], color='blue', label='Train accuracy')\n",
        "plt.plot(history.history['val_accuracy'], color='orange', label='Validation accuracy')\n",
        "plt.legend()\n",
        "plt.show()"
      ],
      "execution_count": 13,
      "outputs": [
        {
          "output_type": "display_data",
          "data": {
            "image/png": "[encoded data removed]",
            "text/plain": [
              "<Figure size 432x288 with 1 Axes>"
            ]
          },
          "metadata": {
            "needs_background": "light"
          }
        }
      ]
    },
    {
      "cell_type": "markdown",
      "metadata": {
        "id": "CPCLm6Dm24fB"
      },
      "source": [
        "# 3. Testen des Modells"
      ]
    },
    {
      "cell_type": "code",
      "metadata": {
        "id": "MdXh4w-06zad"
      },
      "source": [
        "def classify_pic(samplePicture, picindex):\n",
        "  samplePicture /= 255.                                      # Bild normalisieren\n",
        "  sample_pic_aufbereitet = samplePicture.reshape (1, 28, 28, 1)\n",
        "\n",
        "  predicted_model = model.predict(sample_pic_aufbereitet)\n",
        "        \n",
        "  temp_picture = samplePicture.reshape(28,28) # wir löschen den Schwarz-weiß Kanal fürs Anzeigen des Bildes\n",
        "\n",
        "  plt.imshow(temp_picture)\n",
        "  plt.xlabel(class_names[y_test[picindex]])\n",
        "\n",
        "  plt.show()\n",
        "  \n",
        "  plt.bar(range(10), predicted_model[0])\n",
        "  plt.grid(False)\n",
        "  plt.xticks(range(10))\n",
        "  plt.yticks([])\n",
        "  \n",
        "  print(\"Klasse vorhergesagt: {}\".format(class_names[np.argmax(predicted_model[0])]))\n",
        "\n",
        "  print(\"Gesamte Wahrscheinlichkeiten:\")\n",
        "\n",
        "  #print(class_names[np.argmax(predicted_model)])"
      ],
      "execution_count": 14,
      "outputs": []
    },
    {
      "cell_type": "code",
      "metadata": {
        "colab": {
          "base_uri": "https://localhost:8080/",
          "height": 564
        },
        "id": "HFPc9umt7k9z",
        "outputId": "828faec5-1297-4115-a697-4366a6e8f8e2"
      },
      "source": [
        "classify_pic(X_test[42], 42)"
      ],
      "execution_count": 15,
      "outputs": [
        {
          "output_type": "display_data",
          "data": {
            "image/png": "[encoded data removed]",
            "text/plain": [
              "<Figure size 432x288 with 1 Axes>"
            ]
          },
          "metadata": {
            "needs_background": "light"
          }
        },
        {
          "output_type": "stream",
          "name": "stdout",
          "text": [
            "Klasse vorhergesagt: T-shirt/ Top\n",
            "Gesamte Wahrscheinlichkeiten:\n"
          ]
        },
        {
          "output_type": "display_data",
          "data": {
            "image/png": "[encoded data removed]",
            "text/plain": [
              "<Figure size 432x288 with 1 Axes>"
            ]
          },
          "metadata": {
            "needs_background": "light"
          }
        }
      ]
    },
    {
      "cell_type": "markdown",
      "source": [
        "Nachdem Sie jetzt einen gesamten Durchlauf gesehen haben, sind Sie an der Reihe!\n",
        "\n",
        "Probieren Sie verschiedene CNN-Strukturen aus: wie ändert sich dabei die Genauigkeit des Modells?\n",
        "\n",
        "* Anpassungen der bestehenden Conv2D-Faltungen: Anzahl Filter (erste Zahl), Kernel, Padding, Aktivierungsfunktionen\n",
        "* Mehrere neue Faltungen (Conv2D)\n",
        "* MaxPooling2D: Größe des Pooling \n",
        "* Dropout: Prozentsatz\n",
        "* Anpassungen der bestehenden Dense-Layers\n",
        "* Neue Dense-Layers\n",
        "\n",
        "Probieren Sie verschiedene Hyperparameter aus: wie ändert sich dabei die Genauigkeit des Modells?\n",
        "* BATCH_SIZE \n",
        "* EPOCHS\n",
        "* LEARNING_RATE"
      ],
      "metadata": {
        "id": "_ox6nxz9jahK"
      }
    },
    {
      "cell_type": "code",
      "source": [
        " "
      ],
      "metadata": {
        "id": "iMX6ZSBVjq5y"
      },
      "execution_count": null,
      "outputs": []
    }
  ]
}
