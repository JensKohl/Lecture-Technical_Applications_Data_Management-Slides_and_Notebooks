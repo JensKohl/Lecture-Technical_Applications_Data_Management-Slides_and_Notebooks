{
  "nbformat": 4,
  "nbformat_minor": 0,
  "metadata": {
    "colab": {
      "name": "VL 6 Supervised Learning Case Study Hospital_Update SS2022",
      "provenance": [],
      "collapsed_sections": [],
      "toc_visible": true
    },
    "kernelspec": {
      "name": "python3",
      "display_name": "Python 3"
    },
    "language_info": {
      "name": "python"
    }
  },
  "cells": [
    {
      "cell_type": "markdown",
      "metadata": {
        "id": "tHwNjs5lnL_8"
      },
      "source": [
        "# Das automatisierte Krankenhaus"
      ]
    },
    {
      "cell_type": "markdown",
      "metadata": {
        "id": "-sFv38MPtgff"
      },
      "source": [
        "Wir wollen einen Klassifikator bauen, der anhand von gemessenen Daten entscheidet, ob ein Patient im Krankenhaus oder ambulant behandelt wird. \n",
        "\n",
        "Dabei schauen wir uns folgende Sachen im Detail an:\n",
        "* Verschiedene Machine Learning Algorithmen wie SVM, DecisionTree, RandomForest und XGBoost\n",
        "* Optimieren Machine Learning Algorithmen durch Parameter- und Hyperparameter-Tuning\n",
        "\n",
        "Die Daten sind Teil der Veröffentlichung \"Sadikin, Mujiono (2020), “EHR Dataset for Patient Treatment Classification”, Mendeley Data\" und verfügbar unter: [Link] (https://data.mendeley.com/datasets/7kv3rctx7m/1/files/e1aea094-1201-4b28-a9ce-53dd8117f02c)"
      ]
    },
    {
      "cell_type": "markdown",
      "metadata": {
        "id": "ahw7CXlHuU16"
      },
      "source": [
        "##1 Dateien einlesen"
      ]
    },
    {
      "cell_type": "code",
      "metadata": {
        "id": "bGPU8ANLuEDw"
      },
      "source": [
        "import pandas as pd   # Importieren Standard-Library für das Bearbeiten und Laden von Daten (\"Data Engineering\").\n",
        "import matplotlib.pyplot as plt # Standard-Library für das Plotten von Graphen.\n",
        "import seaborn as sns   # verschönert Matplotlib-Graphiken\n",
        "import numpy as np # Standard-Library für Rechnen"
      ],
      "execution_count": null,
      "outputs": []
    },
    {
      "cell_type": "code",
      "metadata": {
        "colab": {
          "resources": {
            "http://localhost:8080/nbextensions/google.colab/files.js": {
              "data": "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",
              "ok": true,
              "headers": [
                [
                  "content-type",
                  "application/javascript"
                ]
              ],
              "status": 200,
              "status_text": ""
            }
          },
          "base_uri": "https://localhost:8080/",
          "height": 74
        },
        "id": "--WwyWm1nJgc",
        "outputId": "46c3438a-a1b6-4cf9-b824-afdf2bb3cda0"
      },
      "source": [
        "# Hochladen Datensatz über eine Eingabemaske von lokalem Rechner etc.\n",
        "from google.colab import files\n",
        "files.upload()\n",
        "Patients_df = pd.read_csv('data-ori.csv', sep=',')"
      ],
      "execution_count": null,
      "outputs": [
        {
          "output_type": "display_data",
          "data": {
            "text/plain": [
              "<IPython.core.display.HTML object>"
            ],
            "text/html": [
              "\n",
              "     <input type=\"file\" id=\"files-8669f9f3-a0e9-42c6-afe6-1475f5e1dc54\" name=\"files[]\" multiple disabled\n",
              "        style=\"border:none\" />\n",
              "     <output id=\"result-8669f9f3-a0e9-42c6-afe6-1475f5e1dc54\">\n",
              "      Upload widget is only available when the cell has been executed in the\n",
              "      current browser session. Please rerun this cell to enable.\n",
              "      </output>\n",
              "      <script src=\"/nbextensions/google.colab/files.js\"></script> "
            ]
          },
          "metadata": {}
        },
        {
          "output_type": "stream",
          "name": "stdout",
          "text": [
            "Saving data-ori.csv to data-ori.csv\n"
          ]
        }
      ]
    },
    {
      "cell_type": "code",
      "metadata": {
        "colab": {
          "base_uri": "https://localhost:8080/",
          "height": 423
        },
        "id": "3By0pK81t-tt",
        "outputId": "e9aa870b-fa24-40c9-99fd-6b0428255503"
      },
      "source": [
        "Patients_df"
      ],
      "execution_count": null,
      "outputs": [
        {
          "output_type": "execute_result",
          "data": {
            "text/plain": [
              "      HAEMATOCRIT  HAEMOGLOBINS  ERYTHROCYTE  LEUCOCYTE  THROMBOCYTE   MCH  \\\n",
              "0            35.1          11.8         4.65        6.3          310  25.4   \n",
              "1            43.5          14.8         5.39       12.7          334  27.5   \n",
              "2            33.5          11.3         4.74       13.2          305  23.8   \n",
              "3            39.1          13.7         4.98       10.5          366  27.5   \n",
              "4            30.9           9.9         4.23       22.1          333  23.4   \n",
              "...           ...           ...          ...        ...          ...   ...   \n",
              "4407         32.8          10.4         3.49        8.1           72  29.8   \n",
              "4408         33.7          10.8         3.67        6.7           70  29.4   \n",
              "4409         33.2          11.2         3.47        7.2          235  32.3   \n",
              "4410         31.5          10.4         3.15        9.1          187  33.0   \n",
              "4411         33.5          10.9         3.44        5.8          275  31.7   \n",
              "\n",
              "      MCHC    MCV  AGE SEX SOURCE  \n",
              "0     33.6   75.5    1   F    out  \n",
              "1     34.0   80.7    1   F    out  \n",
              "2     33.7   70.7    1   F    out  \n",
              "3     35.0   78.5    1   F    out  \n",
              "4     32.0   73.0    1   M    out  \n",
              "...    ...    ...  ...  ..    ...  \n",
              "4407  31.7   94.0   92   F     in  \n",
              "4408  32.0   91.8   92   F     in  \n",
              "4409  33.7   95.7   93   F    out  \n",
              "4410  33.0  100.0   98   F     in  \n",
              "4411  32.5   97.4   99   F    out  \n",
              "\n",
              "[4412 rows x 11 columns]"
            ],
            "text/html": [
              "\n",
              "  <div id=\"df-b4c455ed-31a4-44d8-aeeb-2a48edc459aa\">\n",
              "    <div class=\"colab-df-container\">\n",
              "      <div>\n",
              "<style scoped>\n",
              "    .dataframe tbody tr th:only-of-type {\n",
              "        vertical-align: middle;\n",
              "    }\n",
              "\n",
              "    .dataframe tbody tr th {\n",
              "        vertical-align: top;\n",
              "    }\n",
              "\n",
              "    .dataframe thead th {\n",
              "        text-align: right;\n",
              "    }\n",
              "</style>\n",
              "<table border=\"1\" class=\"dataframe\">\n",
              "  <thead>\n",
              "    <tr style=\"text-align: right;\">\n",
              "      <th></th>\n",
              "      <th>HAEMATOCRIT</th>\n",
              "      <th>HAEMOGLOBINS</th>\n",
              "      <th>ERYTHROCYTE</th>\n",
              "      <th>LEUCOCYTE</th>\n",
              "      <th>THROMBOCYTE</th>\n",
              "      <th>MCH</th>\n",
              "      <th>MCHC</th>\n",
              "      <th>MCV</th>\n",
              "      <th>AGE</th>\n",
              "      <th>SEX</th>\n",
              "      <th>SOURCE</th>\n",
              "    </tr>\n",
              "  </thead>\n",
              "  <tbody>\n",
              "    <tr>\n",
              "      <th>0</th>\n",
              "      <td>35.1</td>\n",
              "      <td>11.8</td>\n",
              "      <td>4.65</td>\n",
              "      <td>6.3</td>\n",
              "      <td>310</td>\n",
              "      <td>25.4</td>\n",
              "      <td>33.6</td>\n",
              "      <td>75.5</td>\n",
              "      <td>1</td>\n",
              "      <td>F</td>\n",
              "      <td>out</td>\n",
              "    </tr>\n",
              "    <tr>\n",
              "      <th>1</th>\n",
              "      <td>43.5</td>\n",
              "      <td>14.8</td>\n",
              "      <td>5.39</td>\n",
              "      <td>12.7</td>\n",
              "      <td>334</td>\n",
              "      <td>27.5</td>\n",
              "      <td>34.0</td>\n",
              "      <td>80.7</td>\n",
              "      <td>1</td>\n",
              "      <td>F</td>\n",
              "      <td>out</td>\n",
              "    </tr>\n",
              "    <tr>\n",
              "      <th>2</th>\n",
              "      <td>33.5</td>\n",
              "      <td>11.3</td>\n",
              "      <td>4.74</td>\n",
              "      <td>13.2</td>\n",
              "      <td>305</td>\n",
              "      <td>23.8</td>\n",
              "      <td>33.7</td>\n",
              "      <td>70.7</td>\n",
              "      <td>1</td>\n",
              "      <td>F</td>\n",
              "      <td>out</td>\n",
              "    </tr>\n",
              "    <tr>\n",
              "      <th>3</th>\n",
              "      <td>39.1</td>\n",
              "      <td>13.7</td>\n",
              "      <td>4.98</td>\n",
              "      <td>10.5</td>\n",
              "      <td>366</td>\n",
              "      <td>27.5</td>\n",
              "      <td>35.0</td>\n",
              "      <td>78.5</td>\n",
              "      <td>1</td>\n",
              "      <td>F</td>\n",
              "      <td>out</td>\n",
              "    </tr>\n",
              "    <tr>\n",
              "      <th>4</th>\n",
              "      <td>30.9</td>\n",
              "      <td>9.9</td>\n",
              "      <td>4.23</td>\n",
              "      <td>22.1</td>\n",
              "      <td>333</td>\n",
              "      <td>23.4</td>\n",
              "      <td>32.0</td>\n",
              "      <td>73.0</td>\n",
              "      <td>1</td>\n",
              "      <td>M</td>\n",
              "      <td>out</td>\n",
              "    </tr>\n",
              "    <tr>\n",
              "      <th>...</th>\n",
              "      <td>...</td>\n",
              "      <td>...</td>\n",
              "      <td>...</td>\n",
              "      <td>...</td>\n",
              "      <td>...</td>\n",
              "      <td>...</td>\n",
              "      <td>...</td>\n",
              "      <td>...</td>\n",
              "      <td>...</td>\n",
              "      <td>...</td>\n",
              "      <td>...</td>\n",
              "    </tr>\n",
              "    <tr>\n",
              "      <th>4407</th>\n",
              "      <td>32.8</td>\n",
              "      <td>10.4</td>\n",
              "      <td>3.49</td>\n",
              "      <td>8.1</td>\n",
              "      <td>72</td>\n",
              "      <td>29.8</td>\n",
              "      <td>31.7</td>\n",
              "      <td>94.0</td>\n",
              "      <td>92</td>\n",
              "      <td>F</td>\n",
              "      <td>in</td>\n",
              "    </tr>\n",
              "    <tr>\n",
              "      <th>4408</th>\n",
              "      <td>33.7</td>\n",
              "      <td>10.8</td>\n",
              "      <td>3.67</td>\n",
              "      <td>6.7</td>\n",
              "      <td>70</td>\n",
              "      <td>29.4</td>\n",
              "      <td>32.0</td>\n",
              "      <td>91.8</td>\n",
              "      <td>92</td>\n",
              "      <td>F</td>\n",
              "      <td>in</td>\n",
              "    </tr>\n",
              "    <tr>\n",
              "      <th>4409</th>\n",
              "      <td>33.2</td>\n",
              "      <td>11.2</td>\n",
              "      <td>3.47</td>\n",
              "      <td>7.2</td>\n",
              "      <td>235</td>\n",
              "      <td>32.3</td>\n",
              "      <td>33.7</td>\n",
              "      <td>95.7</td>\n",
              "      <td>93</td>\n",
              "      <td>F</td>\n",
              "      <td>out</td>\n",
              "    </tr>\n",
              "    <tr>\n",
              "      <th>4410</th>\n",
              "      <td>31.5</td>\n",
              "      <td>10.4</td>\n",
              "      <td>3.15</td>\n",
              "      <td>9.1</td>\n",
              "      <td>187</td>\n",
              "      <td>33.0</td>\n",
              "      <td>33.0</td>\n",
              "      <td>100.0</td>\n",
              "      <td>98</td>\n",
              "      <td>F</td>\n",
              "      <td>in</td>\n",
              "    </tr>\n",
              "    <tr>\n",
              "      <th>4411</th>\n",
              "      <td>33.5</td>\n",
              "      <td>10.9</td>\n",
              "      <td>3.44</td>\n",
              "      <td>5.8</td>\n",
              "      <td>275</td>\n",
              "      <td>31.7</td>\n",
              "      <td>32.5</td>\n",
              "      <td>97.4</td>\n",
              "      <td>99</td>\n",
              "      <td>F</td>\n",
              "      <td>out</td>\n",
              "    </tr>\n",
              "  </tbody>\n",
              "</table>\n",
              "<p>4412 rows × 11 columns</p>\n",
              "</div>\n",
              "      <button class=\"colab-df-convert\" onclick=\"convertToInteractive('df-b4c455ed-31a4-44d8-aeeb-2a48edc459aa')\"\n",
              "              title=\"Convert this dataframe to an interactive table.\"\n",
              "              style=\"display:none;\">\n",
              "        \n",
              "  <svg xmlns=\"http://www.w3.org/2000/svg\" height=\"24px\"viewBox=\"0 0 24 24\"\n",
              "       width=\"24px\">\n",
              "    <path d=\"M0 0h24v24H0V0z\" fill=\"none\"/>\n",
              "    <path d=\"M18.56 5.44l.94 2.06.94-2.06 2.06-.94-2.06-.94-.94-2.06-.94 2.06-2.06.94zm-11 1L8.5 8.5l.94-2.06 2.06-.94-2.06-.94L8.5 2.5l-.94 2.06-2.06.94zm10 10l.94 2.06.94-2.06 2.06-.94-2.06-.94-.94-2.06-.94 2.06-2.06.94z\"/><path d=\"M17.41 7.96l-1.37-1.37c-.4-.4-.92-.59-1.43-.59-.52 0-1.04.2-1.43.59L10.3 9.45l-7.72 7.72c-.78.78-.78 2.05 0 2.83L4 21.41c.39.39.9.59 1.41.59.51 0 1.02-.2 1.41-.59l7.78-7.78 2.81-2.81c.8-.78.8-2.07 0-2.86zM5.41 20L4 18.59l7.72-7.72 1.47 1.35L5.41 20z\"/>\n",
              "  </svg>\n",
              "      </button>\n",
              "      \n",
              "  <style>\n",
              "    .colab-df-container {\n",
              "      display:flex;\n",
              "      flex-wrap:wrap;\n",
              "      gap: 12px;\n",
              "    }\n",
              "\n",
              "    .colab-df-convert {\n",
              "      background-color: #E8F0FE;\n",
              "      border: none;\n",
              "      border-radius: 50%;\n",
              "      cursor: pointer;\n",
              "      display: none;\n",
              "      fill: #1967D2;\n",
              "      height: 32px;\n",
              "      padding: 0 0 0 0;\n",
              "      width: 32px;\n",
              "    }\n",
              "\n",
              "    .colab-df-convert:hover {\n",
              "      background-color: #E2EBFA;\n",
              "      box-shadow: 0px 1px 2px rgba(60, 64, 67, 0.3), 0px 1px 3px 1px rgba(60, 64, 67, 0.15);\n",
              "      fill: #174EA6;\n",
              "    }\n",
              "\n",
              "    [theme=dark] .colab-df-convert {\n",
              "      background-color: #3B4455;\n",
              "      fill: #D2E3FC;\n",
              "    }\n",
              "\n",
              "    [theme=dark] .colab-df-convert:hover {\n",
              "      background-color: #434B5C;\n",
              "      box-shadow: 0px 1px 3px 1px rgba(0, 0, 0, 0.15);\n",
              "      filter: drop-shadow(0px 1px 2px rgba(0, 0, 0, 0.3));\n",
              "      fill: #FFFFFF;\n",
              "    }\n",
              "  </style>\n",
              "\n",
              "      <script>\n",
              "        const buttonEl =\n",
              "          document.querySelector('#df-b4c455ed-31a4-44d8-aeeb-2a48edc459aa button.colab-df-convert');\n",
              "        buttonEl.style.display =\n",
              "          google.colab.kernel.accessAllowed ? 'block' : 'none';\n",
              "\n",
              "        async function convertToInteractive(key) {\n",
              "          const element = document.querySelector('#df-b4c455ed-31a4-44d8-aeeb-2a48edc459aa');\n",
              "          const dataTable =\n",
              "            await google.colab.kernel.invokeFunction('convertToInteractive',\n",
              "                                                     [key], {});\n",
              "          if (!dataTable) return;\n",
              "\n",
              "          const docLinkHtml = 'Like what you see? Visit the ' +\n",
              "            '<a target=\"_blank\" href=https://colab.research.google.com/notebooks/data_table.ipynb>data table notebook</a>'\n",
              "            + ' to learn more about interactive tables.';\n",
              "          element.innerHTML = '';\n",
              "          dataTable['output_type'] = 'display_data';\n",
              "          await google.colab.output.renderOutput(dataTable, element);\n",
              "          const docLink = document.createElement('div');\n",
              "          docLink.innerHTML = docLinkHtml;\n",
              "          element.appendChild(docLink);\n",
              "        }\n",
              "      </script>\n",
              "    </div>\n",
              "  </div>\n",
              "  "
            ]
          },
          "metadata": {},
          "execution_count": 3
        }
      ]
    },
    {
      "cell_type": "markdown",
      "metadata": {
        "id": "yS1SPBs4xSqz"
      },
      "source": [
        "Hier eine kurze Erklärung der Daten, entnommen aus: [Link](https://www.kaggle.com/manishkc06/patient-treatment-classification)\n",
        "\n",
        "* HAEMATOCRIT /Continuous /35.1 / Patient laboratory test result of haematocrit\n",
        "* HAEMOGLOBINS/Continuous/11.8 / Patient laboratory test result of haemoglobins\n",
        "* ERYTHROCYTE/Continuous/4.65 / Patient laboratory test result of erythrocyte\n",
        "* LEUCOCYTE /Continuous /6.3 / Patient laboratory test result of leucocyte\n",
        "* THROMBOCYTE/Continuous/310/ Patient laboratory test result of thrombocyte\n",
        "* MCH/Continuous /25.4/ Patient laboratory test result of MCH\n",
        "* MCHC/Continuous/33.6/ Patient laboratory test result of MCHC\n",
        "* MCV/Continuous /75.5/ Patient laboratory test result of MCV\n",
        "* AGE/Continuous/12/ Patient age\n",
        "* SEX/Nominal – Binary/F/ Patient gender\n",
        "* SOURCE/Nominal/ {1,0}/The class target 1.= in care patient, 0 = out care patient"
      ]
    },
    {
      "cell_type": "markdown",
      "metadata": {
        "id": "JJvu-BjUuX2c"
      },
      "source": [
        "##2 Dateien aufbereiten"
      ]
    },
    {
      "cell_type": "code",
      "metadata": {
        "colab": {
          "base_uri": "https://localhost:8080/"
        },
        "id": "fSwBpIx7vkid",
        "outputId": "df4d6c54-c82f-4844-8345-e796c1509425"
      },
      "source": [
        "Patients_df.dtypes"
      ],
      "execution_count": null,
      "outputs": [
        {
          "output_type": "execute_result",
          "data": {
            "text/plain": [
              "HAEMATOCRIT     float64\n",
              "HAEMOGLOBINS    float64\n",
              "ERYTHROCYTE     float64\n",
              "LEUCOCYTE       float64\n",
              "THROMBOCYTE       int64\n",
              "MCH             float64\n",
              "MCHC            float64\n",
              "MCV             float64\n",
              "AGE               int64\n",
              "SEX              object\n",
              "SOURCE           object\n",
              "dtype: object"
            ]
          },
          "metadata": {},
          "execution_count": 4
        }
      ]
    },
    {
      "cell_type": "markdown",
      "metadata": {
        "id": "tRkjtt-xvmXN"
      },
      "source": [
        "Wir sehen daß wir noch 2 Spalten, SEX und SOURCE, in Zahlen umwandeln müssen (Machine Learning Algorithmen können nur damit arbeiten). \n",
        "\n",
        "Fangen wir mit Sex an und danach SOURCE, was ja auch das Label ist"
      ]
    },
    {
      "cell_type": "code",
      "metadata": {
        "colab": {
          "base_uri": "https://localhost:8080/"
        },
        "id": "HhPObzX_uxGD",
        "outputId": "5f2cf3fb-33d8-4976-c32b-1eb876a2b757"
      },
      "source": [
        "print(Patients_df['SOURCE'].unique())\n",
        "print(Patients_df['SEX'].unique())"
      ],
      "execution_count": null,
      "outputs": [
        {
          "output_type": "stream",
          "name": "stdout",
          "text": [
            "['out' 'in']\n",
            "['F' 'M']\n"
          ]
        }
      ]
    },
    {
      "cell_type": "markdown",
      "metadata": {
        "id": "USIiWtJRub-6"
      },
      "source": [
        "Das Dataset ist fast direkt einsetzbar, nur müssen wir noch 2 Spalten bearbeiten: die letzte Spalte 'Source' in das Label umwandeln.\n",
        "\n",
        "Wir nehmen folgende Werte für Source und damit das Label:\n",
        "- 1 wenn der Patient im Krankenhaus bleibt\n",
        "- 0 wenn der Patient ambulant behandelt wird"
      ]
    },
    {
      "cell_type": "code",
      "metadata": {
        "colab": {
          "base_uri": "https://localhost:8080/"
        },
        "id": "tBZcdIGRvcFi",
        "outputId": "fb4f72dc-c640-4d45-aa00-9bbf19004533"
      },
      "source": [
        "Sex_mapping = {\"F\": 1, \"M\": 0}\n",
        "\n",
        "Patients_df['Sex']= Patients_df['SEX'].map(Sex_mapping) # baue eine neue Spalte Sex. Es wird für Sex der Wert 1 gesetzt, falls in der gleichen Zeile bei Source eine Fra steht.  \n",
        "Patients_df['Sex'] = Patients_df['Sex'].astype('int')  # wandele die Spalte Target in den Datentyp Zahl um.\n",
        "Patients_df = Patients_df.drop(['SEX'], axis=1) # jetzt brauchen wir die Spalte SEX nicht mehr\n",
        "Patients_df.dtypes"
      ],
      "execution_count": null,
      "outputs": [
        {
          "output_type": "execute_result",
          "data": {
            "text/plain": [
              "HAEMATOCRIT     float64\n",
              "HAEMOGLOBINS    float64\n",
              "ERYTHROCYTE     float64\n",
              "LEUCOCYTE       float64\n",
              "THROMBOCYTE       int64\n",
              "MCH             float64\n",
              "MCHC            float64\n",
              "MCV             float64\n",
              "AGE               int64\n",
              "SOURCE           object\n",
              "Sex               int64\n",
              "dtype: object"
            ]
          },
          "metadata": {},
          "execution_count": 6
        }
      ]
    },
    {
      "cell_type": "code",
      "metadata": {
        "colab": {
          "base_uri": "https://localhost:8080/"
        },
        "id": "yLlYmeB3uRqI",
        "outputId": "2906ed05-cb75-4e55-b294-a8fdfcd6b0ac"
      },
      "source": [
        "source_mapping = {\"in\": 1,\n",
        "                 \"out\": 0}\n",
        "\n",
        "Patients_df['Target']= Patients_df['SOURCE'].map(source_mapping) # baue eine neue Spalte Target. Es wird für Target der Wert 1 gesetzt, falls in der gleichen Zeile bei Source in steht.  \n",
        "Patients_df['Target'] = Patients_df['Target'].astype('int')  # wandele die Spalte Target in den Datentyp Zahl um.\n",
        "Patients_df = Patients_df.drop(['SOURCE'], axis=1) # jetzt brauchen wir die Spalte SOURCE nicht mehr\n",
        "Patients_df.dtypes"
      ],
      "execution_count": null,
      "outputs": [
        {
          "output_type": "execute_result",
          "data": {
            "text/plain": [
              "HAEMATOCRIT     float64\n",
              "HAEMOGLOBINS    float64\n",
              "ERYTHROCYTE     float64\n",
              "LEUCOCYTE       float64\n",
              "THROMBOCYTE       int64\n",
              "MCH             float64\n",
              "MCHC            float64\n",
              "MCV             float64\n",
              "AGE               int64\n",
              "Sex               int64\n",
              "Target            int64\n",
              "dtype: object"
            ]
          },
          "metadata": {},
          "execution_count": 7
        }
      ]
    },
    {
      "cell_type": "code",
      "metadata": {
        "colab": {
          "base_uri": "https://localhost:8080/"
        },
        "id": "Wrbu_Ym3wWIU",
        "outputId": "84c86fb2-3ab3-4e1c-cd94-019e29e52049"
      },
      "source": [
        "# Label/ Zielgröße in y abspeichern\n",
        "y = Patients_df['Target']\n",
        "X = Patients_df.iloc[:, :-1]  # verkürzte Schreibweise: alle Zeilen (der Doppelpunkt vor dem Komma) und zu den Zeilen die jeweiligen Spalten bis hin zur vorletzten werden in X gespeichert.\n",
        "\n",
        "# letzter Test. \n",
        "print(\"X hat folgenden Shape\", X.shape) # X sollte 150 Zeilen mit jeweils 4 Spalten/ Features haben\n",
        "print(\"y-Vektor hat folgenden Shape\", y.shape) #Y sollte 150 Zeilen mit 1 Wert, der Zielvariablen haben"
      ],
      "execution_count": null,
      "outputs": [
        {
          "output_type": "stream",
          "name": "stdout",
          "text": [
            "X hat folgenden Shape (4412, 10)\n",
            "y-Vektor hat folgenden Shape (4412,)\n"
          ]
        }
      ]
    },
    {
      "cell_type": "code",
      "metadata": {
        "colab": {
          "base_uri": "https://localhost:8080/"
        },
        "id": "WQVR7Of4whkf",
        "outputId": "a962eb54-5947-4aab-bbb0-d6545a19989d"
      },
      "source": [
        "from sklearn.model_selection import train_test_split\n",
        "X_train, X_test, y_train, y_test = train_test_split(X, y, test_size=0.3, random_state=0)\n",
        "\n",
        "# Test ob Aufteilung funktioniert hat.\n",
        "print(\"Shapes von X_train und X_test\", X_train.shape, X_test.shape)\n",
        "print(\"Shapes von y_train und y_test\", y_train.shape, y_test.shape)"
      ],
      "execution_count": null,
      "outputs": [
        {
          "output_type": "stream",
          "name": "stdout",
          "text": [
            "Shapes von X_train und X_test (3088, 10) (1324, 10)\n",
            "Shapes von y_train und y_test (3088,) (1324,)\n"
          ]
        }
      ]
    },
    {
      "cell_type": "markdown",
      "metadata": {
        "id": "68iW2mGvwnnK"
      },
      "source": [
        "##3 Machine Learning"
      ]
    },
    {
      "cell_type": "markdown",
      "source": [
        "Wir wollen Machine Learning einsetzen, um möglichst genau bestimmen zu können, ob ein Patient gegeben bestimmte Messwerte im Krankenhaus bleiben sollte oder entlassen werden kann. Es handelt sich also um einen **binären Klassifikator**, da wir für den Zielwert, das **Label** zwei Möglichkeiten haben.\n",
        "\n",
        "Die Frage was bedeutet möglichst genaues Bestimmen läßt sich bei Klassifikatoren bspw. über einen Vergleich mit dem Menschen machen: sind Ärzte in der Lage, anhand von Messwerten mit einer Genauigkeit von z.B. 96% die richtige Diagnose bzgl. Verbleiben im Krankenhaus zu treffen, so sollte der von uns entwickelte Algorithmus mindestens genauso gut sein."
      ],
      "metadata": {
        "id": "A8fE_LN9PBmA"
      }
    },
    {
      "cell_type": "markdown",
      "source": [
        "Für das Bestimmen der Genauigkeit bauen wir uns mit **Model_Accuracy** eine Hilfsfunktion."
      ],
      "metadata": {
        "id": "3bPK1dLmQIoB"
      }
    },
    {
      "cell_type": "code",
      "metadata": {
        "id": "r4jESsezwnJM"
      },
      "source": [
        "from sklearn.metrics import mean_squared_error \n",
        "from sklearn.metrics import classification_report\n",
        "from sklearn.metrics import confusion_matrix\n",
        "from sklearn.metrics import accuracy_score\n",
        "from sklearn.metrics import plot_confusion_matrix\n",
        "\n",
        "def Model_accuracy(predicted_y_values, real_y_values):\n",
        "  print(confusion_matrix(real_y_values, predicted_y_values)) #Confusion Matrix\n",
        "  print(classification_report(real_y_values, predicted_y_values)) # Print summary report\n",
        "  print('accuracy is ',accuracy_score(predicted_y_values, real_y_values)) # Print accuracy score"
      ],
      "execution_count": null,
      "outputs": []
    },
    {
      "cell_type": "markdown",
      "source": [
        "### 3.1 Simple Machine Learning Verfahren"
      ],
      "metadata": {
        "id": "34RY49nhQUXQ"
      }
    },
    {
      "cell_type": "markdown",
      "source": [
        "#### Support Vector Machine Verfahren"
      ],
      "metadata": {
        "id": "1lHWze30QtQQ"
      }
    },
    {
      "cell_type": "code",
      "metadata": {
        "id": "phAt0aIRwwkh"
      },
      "source": [
        "from sklearn import svm\n",
        "\n",
        "SVC_basis = svm.SVC()\n",
        "SVC_basis.fit(X_train, y_train)\n",
        "y_pred_SVM_basis = SVC_basis.predict(X_test)"
      ],
      "execution_count": null,
      "outputs": []
    },
    {
      "cell_type": "code",
      "metadata": {
        "colab": {
          "base_uri": "https://localhost:8080/"
        },
        "id": "4X4-JT6by9pq",
        "outputId": "be546d13-71cc-4a25-daba-1c7679b43a9d"
      },
      "source": [
        "Model_accuracy(y_pred_SVM_basis, y_test)"
      ],
      "execution_count": null,
      "outputs": [
        {
          "output_type": "stream",
          "name": "stdout",
          "text": [
            "[[714  52]\n",
            " [351 207]]\n",
            "              precision    recall  f1-score   support\n",
            "\n",
            "           0       0.67      0.93      0.78       766\n",
            "           1       0.80      0.37      0.51       558\n",
            "\n",
            "    accuracy                           0.70      1324\n",
            "   macro avg       0.73      0.65      0.64      1324\n",
            "weighted avg       0.72      0.70      0.66      1324\n",
            "\n",
            "accuracy is  0.695619335347432\n"
          ]
        }
      ]
    },
    {
      "cell_type": "markdown",
      "source": [
        "#### Decision Tree"
      ],
      "metadata": {
        "id": "J1_fYlP_QwR4"
      }
    },
    {
      "cell_type": "code",
      "source": [
        "from sklearn.tree import DecisionTreeClassifier\n",
        "\n",
        "decisionTree = DecisionTreeClassifier()\n",
        "\n",
        "decisionTree.fit(X_train, y_train)\n",
        "y_pred_DecTree = decisionTree.predict(X_test)"
      ],
      "metadata": {
        "id": "0OxJO-CBQ79h"
      },
      "execution_count": null,
      "outputs": []
    },
    {
      "cell_type": "code",
      "source": [
        "Model_accuracy(y_pred_DecTree, y_test)"
      ],
      "metadata": {
        "colab": {
          "base_uri": "https://localhost:8080/"
        },
        "id": "4RkNSR3sQ90p",
        "outputId": "d8588d75-00ce-4d09-ba0b-726454d2040b"
      },
      "execution_count": null,
      "outputs": [
        {
          "output_type": "stream",
          "name": "stdout",
          "text": [
            "[[559 207]\n",
            " [225 333]]\n",
            "              precision    recall  f1-score   support\n",
            "\n",
            "           0       0.71      0.73      0.72       766\n",
            "           1       0.62      0.60      0.61       558\n",
            "\n",
            "    accuracy                           0.67      1324\n",
            "   macro avg       0.66      0.66      0.66      1324\n",
            "weighted avg       0.67      0.67      0.67      1324\n",
            "\n",
            "accuracy is  0.6737160120845922\n"
          ]
        }
      ]
    },
    {
      "cell_type": "code",
      "source": [
        "from sklearn import tree\n",
        "fig = plt.figure(figsize=(10,10))\n",
        "_ = tree.plot_tree(decisionTree, \n",
        "                   feature_names= Patients_df.columns[0:-1].values,  \n",
        "                   #class_names=[\"Iris-setosa\", \"Iris-versicolor\", \"Iris-virginica\"],\n",
        "                   filled=True)"
      ],
      "metadata": {
        "colab": {
          "base_uri": "https://localhost:8080/",
          "height": 575
        },
        "id": "f9A1na6KSCXY",
        "outputId": "edb8455d-5421-4806-f3ce-4c5e3d5594eb"
      },
      "execution_count": null,
      "outputs": [
        {
          "output_type": "display_data",
          "data": {
            "text/plain": [
              "<Figure size 720x720 with 1 Axes>"
            ],
            "image/png": "[encoded data removed]"
          },
          "metadata": {
            "needs_background": "light"
          }
        }
      ]
    },
    {
      "cell_type": "markdown",
      "source": [
        "Wie Sie sehen, unterscheidet sich der Code für den  Einsatz des SVM vom Decision Tree kaum. Dafür bietet uns der Decision Tree die Möglichkeit, die Entscheidungsfindung graphisch zu veranschaulichen (**Explainability**), auch wenn das ganze recht unübersichtlich ist.\n",
        "\n",
        "Aber die Genauigkeit ist bei beiden Verfahren nicht gerade gut. Deshalb schauen wir mal ob der Einsatz von Ensemble Learning Verfahren bessere Ergebnisse ergibt."
      ],
      "metadata": {
        "id": "DYmYvsEsRKF6"
      }
    },
    {
      "cell_type": "markdown",
      "source": [
        " ### 3.2 Ensemble Learning Verfahren"
      ],
      "metadata": {
        "id": "H44qSMzmRk8g"
      }
    },
    {
      "cell_type": "markdown",
      "source": [
        "Ensemble Learning-Verfahren basieren auf der Idee, daß durch Kombination von mehreren \"simplen Machine Learning\"-Verfahren sich bessere Ergebnisse erreichen lassen. Eine Erklärung der Algorithmen finden Sie in den Vorlesungsfolien und der dort erwähnten Literatur."
      ],
      "metadata": {
        "id": "iib680OpRsGf"
      }
    },
    {
      "cell_type": "markdown",
      "source": [
        "#### Random Forest"
      ],
      "metadata": {
        "id": "r08tuRz9R8tQ"
      }
    },
    {
      "cell_type": "code",
      "source": [
        "from sklearn.ensemble import RandomForestClassifier\n",
        "\n",
        "RandomForest_clf = RandomForestClassifier()\n",
        "RandomForest_clf.fit(X_train, y_train)\n",
        "\n",
        "y_pred_RandomForest = RandomForest_clf.predict(X_test)"
      ],
      "metadata": {
        "id": "0fKh17UHR8Mw"
      },
      "execution_count": null,
      "outputs": []
    },
    {
      "cell_type": "code",
      "source": [
        "Model_accuracy(y_pred_RandomForest, y_test)"
      ],
      "metadata": {
        "colab": {
          "base_uri": "https://localhost:8080/"
        },
        "id": "aB-Km5KRTAYY",
        "outputId": "4d47e5e2-c629-41a2-cdaf-42ecd029f60d"
      },
      "execution_count": null,
      "outputs": [
        {
          "output_type": "stream",
          "name": "stdout",
          "text": [
            "[[668  98]\n",
            " [228 330]]\n",
            "              precision    recall  f1-score   support\n",
            "\n",
            "           0       0.75      0.87      0.80       766\n",
            "           1       0.77      0.59      0.67       558\n",
            "\n",
            "    accuracy                           0.75      1324\n",
            "   macro avg       0.76      0.73      0.74      1324\n",
            "weighted avg       0.76      0.75      0.75      1324\n",
            "\n",
            "accuracy is  0.7537764350453172\n"
          ]
        }
      ]
    },
    {
      "cell_type": "markdown",
      "source": [
        "Random Forest bietet uns zusätzlich die Funktionalität, aufzuzeigen, welche Features für das Modell am wichtigsten sind, d.h. welche Features/ Eigenschaften das Modell am stärksten gewichtet für die Klassifkation."
      ],
      "metadata": {
        "id": "xMMGnoXGTnYA"
      }
    },
    {
      "cell_type": "code",
      "source": [
        "RandomForest_feature_importances = pd.DataFrame({'features': Patients_df.columns[0:-1].values,\n",
        "                                        'importances': RandomForest_clf.feature_importances_})\n",
        "\n",
        "RandomForest_feature_importances.sort_values('importances', ascending = False, inplace = True)\n",
        "\n",
        "sns.barplot(x = \"importances\", y = \"features\", data = RandomForest_feature_importances, palette = \"Blues_r\")"
      ],
      "metadata": {
        "colab": {
          "base_uri": "https://localhost:8080/",
          "height": 296
        },
        "id": "roB6DSLkTcag",
        "outputId": "7a48534a-913e-44ea-e1e6-a31f93147b13"
      },
      "execution_count": null,
      "outputs": [
        {
          "output_type": "execute_result",
          "data": {
            "text/plain": [
              "<matplotlib.axes._subplots.AxesSubplot at 0x7f8052ea2390>"
            ]
          },
          "metadata": {},
          "execution_count": 18
        },
        {
          "output_type": "display_data",
          "data": {
            "text/plain": [
              "<Figure size 432x288 with 1 Axes>"
            ],
            "image/png": "[encoded data removed]"
          },
          "metadata": {
            "needs_background": "light"
          }
        }
      ]
    },
    {
      "cell_type": "markdown",
      "source": [
        "Wir sehen, daß wir nur durch einfaches Anwenden des Random Forest eine Verbesserung der Genauigkeit von ca. 6% erhalten haben.\n",
        "Schauen wir uns jetzt noch XGBoost an. \n",
        "\n",
        "XGBoost ist in den letzten Jahren quasi der Standardalgorithmus für tabellare Daten im Machine Learning geworden."
      ],
      "metadata": {
        "id": "gyQMYAF_TCk3"
      }
    },
    {
      "cell_type": "markdown",
      "source": [
        "#### XGBoost"
      ],
      "metadata": {
        "id": "uLpkqDl2TTRA"
      }
    },
    {
      "cell_type": "code",
      "source": [
        "import xgboost as xgb\n",
        "\n",
        "XGB_clf = xgb.XGBClassifier()\n",
        "XGB_clf.fit(X_train, y_train)\n",
        "\n",
        "y_pred_XGBT = XGB_clf.predict(X_test)"
      ],
      "metadata": {
        "id": "wRV_CsG_TCBJ"
      },
      "execution_count": null,
      "outputs": []
    },
    {
      "cell_type": "code",
      "source": [
        "Model_accuracy(y_pred_XGBT, y_test)"
      ],
      "metadata": {
        "colab": {
          "base_uri": "https://localhost:8080/"
        },
        "id": "8iZbaf0HUOF5",
        "outputId": "c42dc68f-cca8-4ba7-d721-1772a2c0d141"
      },
      "execution_count": null,
      "outputs": [
        {
          "output_type": "stream",
          "name": "stdout",
          "text": [
            "[[671  95]\n",
            " [230 328]]\n",
            "              precision    recall  f1-score   support\n",
            "\n",
            "           0       0.74      0.88      0.81       766\n",
            "           1       0.78      0.59      0.67       558\n",
            "\n",
            "    accuracy                           0.75      1324\n",
            "   macro avg       0.76      0.73      0.74      1324\n",
            "weighted avg       0.76      0.75      0.75      1324\n",
            "\n",
            "accuracy is  0.7545317220543807\n"
          ]
        }
      ]
    },
    {
      "cell_type": "code",
      "source": [
        "XGBoost_feature_importances = pd.DataFrame({'features': Patients_df.columns[0:-1].values,\n",
        "                                        'importances': XGB_clf.feature_importances_})\n",
        "\n",
        "XGBoost_feature_importances.sort_values('importances', ascending = False, inplace = True)\n",
        "\n",
        "sns.barplot(x = \"importances\", y = \"features\", data = XGBoost_feature_importances, palette = \"Blues_r\")"
      ],
      "metadata": {
        "colab": {
          "base_uri": "https://localhost:8080/",
          "height": 296
        },
        "id": "CIApM0aDUVlx",
        "outputId": "f8416f8d-795e-4e25-84b8-ce826c16a8c9"
      },
      "execution_count": null,
      "outputs": [
        {
          "output_type": "execute_result",
          "data": {
            "text/plain": [
              "<matplotlib.axes._subplots.AxesSubplot at 0x7f805220d8d0>"
            ]
          },
          "metadata": {},
          "execution_count": 21
        },
        {
          "output_type": "display_data",
          "data": {
            "text/plain": [
              "<Figure size 432x288 with 1 Axes>"
            ],
            "image/png": "[encoded data removed]"
          },
          "metadata": {
            "needs_background": "light"
          }
        }
      ]
    },
    {
      "cell_type": "markdown",
      "source": [
        "Wir sehen, daß beide Ensemble Learning Algorithmen deutlich bessere Ergebnisse erzielten.\n",
        "\n",
        "Dabei haben wir bis jetzt beide Verfahren direkt eingesetzt, ohne an den Parametern des Modells zu tunen. Dies nennt man sogenanntes **Hyperparameter Tuning** und ermöglicht nochmals deutliche Verbesserungen der Genauigkeit."
      ],
      "metadata": {
        "id": "XX9zv6lVUjz2"
      }
    },
    {
      "cell_type": "markdown",
      "source": [
        "## 3.3. Hyperparameter-Tuning"
      ],
      "metadata": {
        "id": "QVSKud9TU4gp"
      }
    },
    {
      "cell_type": "markdown",
      "source": [
        "Hyperparameter Tuning ermöglicht nochmals deutliche Verbesserungen, ist aber eine erfahrungsgetriebene Sache und/ oder Ausprobieren.\n",
        "\n",
        "Hyperparameter sind Werte die das Lernverfahren, nicht jedoch die angegebenen Werte, bspw. hier die Patientendaten, ändern. Einfache Beispiele hierfür sind wie lange man trainiert.\n",
        "\n",
        "Wir werden uns in diesem Abschnitt folgendes ansehen:\n",
        "* Detailliertere Erklärung Genauigkeit.\n",
        "* Auswirkungen Hyperparamter-Tuning auf Genauigkeit von XGBoost oder RandomForest.\n",
        "* GridSearch-Verfahren für automatisiertes Ausprobieren/ Finden von Hyperparametern.\n",
        "\n",
        "Detailliertere Informationen zu den möglichen Hyperparametern finden Sie unter [Link](https://www.kaggle.com/code/prashant111/a-guide-on-xgboost-hyperparameters-tuning/notebook) oder [XGBoost Doku](https://xgboost.readthedocs.io/en/latest/parameter.html#parameters-for-tree-booster).\n",
        "\n",
        "Ein Beispiel für den gesamten Tuningprozess finden Sie unter [Link](https://www.analyticsvidhya.com/blog/2016/03/complete-guide-parameter-tuning-xgboost-with-codes-python/)."
      ],
      "metadata": {
        "id": "_PCmE_zYU9wR"
      }
    },
    {
      "cell_type": "markdown",
      "source": [
        "####3.3.1 Genauigkeit im Machine Learning oder Overfitting vs. Underfitting"
      ],
      "metadata": {
        "id": "gIkKI5pYWVnL"
      }
    },
    {
      "cell_type": "markdown",
      "source": [
        "![image.png](data:image/png;base64,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)\n",
        "\n",
        "Quelle: [Link](https://www.educative.io/edpresso/overfitting-and-underfitting)"
      ],
      "metadata": {
        "id": "GGO2alp3Yj3a"
      }
    },
    {
      "cell_type": "markdown",
      "source": [
        "Bevor wir uns im Bild die drei Möglichkeiten, die wir haben können für die Genauigkeit, anschauen zuerst eine genauere Erklärung, was wir unter Genauigkeit verstehen.\n",
        "\n",
        "Ziel eines Machine Learning-Modells muß es sein, mindestens genauso gut bzw. eher besser als der Mensch zu sein. Das heißt wir nehmen die menschliche Genauigkeit als sogenannte **Ground Truth**. Das Modell muß nun für seine Genauigkeit (Accuracy) besser sein als dieser Wert. \n",
        "\n",
        "Das heißt beispielsweise, falls ein Arzt in unserem Fallbeispiel anhand bestimmter Messwerte aus 100 Patienten für genau 70 bestimmen kann ob diese im Krankenhaus bleiben sollten, dann haben wir als Baseline eine Genauigkeit von \n",
        "70%.\n",
        "\n",
        "Wir haben beim Machine Learning zwei Genauigkeiten, die wir dafür nehmen können und zwar die Trainings- und die Testgenauigkeit. Anhand des Vergleichs dieser beiden Genauigkeiten können wir Rückschlüsse auf die Qualität unseres Modells ziehen:\n",
        "* **Underfitting Modell**: keine hohe Trainings- und Testgenauigkeit und beide sind geringer als die **Ground Truth**. Das Modell ist zu **einfach** und erkennt wesentliche Muster nicht. In dem Fall muß weitergelernt werden.\n",
        "* **Overfitting Modell**: deutlich höhere Genauigkeit für die Trainings- als für die Testdaten. Das Modell ist sehr gut auf die Trainingsdaten angepaßt und hat diese quasi \"auswendig gelernt\". Es kann die erkannten Muster aber nicht so gut auf bisher nicht gesehene Daten übertragen - es kann also nicht generalisieren bzw. die wirklich relevanten Dinge lernen. Das Modell ist also zu **komplex**. In dem Fall müssen wir Maßnahmen wie mehr Trainingsdaten, Streichen von Parametern des Modells oder Hyperparameter anpassen.\n",
        "* **Optimal**: Trainings- und Testgenauigkeit sind relativ gleich und größer oder gleich der Ground Truth. Das Modell ist somit nicht zu einfach und nicht zu komplex und mindestens so gut wie menschliche Experten."
      ],
      "metadata": {
        "id": "Giko4L1bYzxJ"
      }
    },
    {
      "cell_type": "markdown",
      "source": [
        "####3.3.2 Auswirkungen Hyperparamter-Tuning auf Genauigkeit von XGBoost"
      ],
      "metadata": {
        "id": "C3aGbZdRaG6p"
      }
    },
    {
      "cell_type": "markdown",
      "source": [
        "Wir werden uns in diesem Abschnitt genauer ansehen, wie die Wahl welcher Hyperparameter die im vorigen Abschnitt beschriebenen Probleme hervorrufen kann.\n",
        "\n",
        "Dabei fokussieren wir uns aus Übersichtlichkeitsgründen auf den Paramater *max_depth*. \n",
        "Dieser Parameter bestimmt \"Maximum depth of a tree. Increasing this value will make the model more complex and more likely to overfit.\"(Quelle: [XGBoost Dokumentation](https://xgboost.readthedocs.io/en/latest/parameter.html#parameters-for-tree-booster)).\n",
        "\n",
        "Wir werden also den Parameter einmal recht gering setzen, um ein zu simples Modell zu erhalten und dann sehr hoch setzen.\n",
        "\n",
        "Fangen wir mit dem simplen an:"
      ],
      "metadata": {
        "id": "Kf2yOMfMaLzK"
      }
    },
    {
      "cell_type": "code",
      "source": [
        "import xgboost as xgb\n",
        "\n",
        "XGB_clf_tuning = xgb.XGBClassifier(max_depth=1)\n",
        "XGB_clf_tuning.fit(X_train, y_train)\n",
        "\n",
        "y_pred_XGBT_tuning = XGB_clf_tuning.predict(X_test)"
      ],
      "metadata": {
        "id": "LZME7FUzaGip"
      },
      "execution_count": null,
      "outputs": []
    },
    {
      "cell_type": "code",
      "source": [
        "Model_accuracy(y_pred_XGBT_tuning, y_test)"
      ],
      "metadata": {
        "colab": {
          "base_uri": "https://localhost:8080/"
        },
        "id": "aqMGDp_Ebzw6",
        "outputId": "d8f7da72-3f4a-4ff1-a363-a137e99ec251"
      },
      "execution_count": null,
      "outputs": [
        {
          "output_type": "stream",
          "name": "stdout",
          "text": [
            "[[687  79]\n",
            " [283 275]]\n",
            "              precision    recall  f1-score   support\n",
            "\n",
            "           0       0.71      0.90      0.79       766\n",
            "           1       0.78      0.49      0.60       558\n",
            "\n",
            "    accuracy                           0.73      1324\n",
            "   macro avg       0.74      0.69      0.70      1324\n",
            "weighted avg       0.74      0.73      0.71      1324\n",
            "\n",
            "accuracy is  0.7265861027190332\n"
          ]
        }
      ]
    },
    {
      "cell_type": "markdown",
      "source": [
        "Man sieht daß das Einsetzen des Wertes für 1 für max_depth (statt standardmäßig 3) dazu führt, daß die Genauigkeit bei 72% ist. Damit ist sie zwar noch besser als die der simplen Algorithmen, aber deutlich schlechter als die 75% von vorher.\n",
        "\n",
        "Gehen wir den anderen Schritt und machen das Modell komplexer"
      ],
      "metadata": {
        "id": "npZW1Nx2b6eP"
      }
    },
    {
      "cell_type": "code",
      "source": [
        "XGB_clf_tuning = xgb.XGBClassifier(max_depth=11) #höherer Wert als 11 macht hier keinen Sinn, da wir nur 11 features haben...\n",
        "XGB_clf_tuning.fit(X_train, y_train)\n",
        "\n",
        "y_pred_XGBT_tuning = XGB_clf_tuning.predict(X_test)"
      ],
      "metadata": {
        "id": "XSifL_pgcNOC"
      },
      "execution_count": null,
      "outputs": []
    },
    {
      "cell_type": "code",
      "source": [
        "Model_accuracy(y_pred_XGBT_tuning, y_test)"
      ],
      "metadata": {
        "colab": {
          "base_uri": "https://localhost:8080/"
        },
        "id": "fbxSDqP9cSaa",
        "outputId": "79849996-d989-4f21-f6fa-5c761f2baf28"
      },
      "execution_count": null,
      "outputs": [
        {
          "output_type": "stream",
          "name": "stdout",
          "text": [
            "[[655 111]\n",
            " [224 334]]\n",
            "              precision    recall  f1-score   support\n",
            "\n",
            "           0       0.75      0.86      0.80       766\n",
            "           1       0.75      0.60      0.67       558\n",
            "\n",
            "    accuracy                           0.75      1324\n",
            "   macro avg       0.75      0.73      0.73      1324\n",
            "weighted avg       0.75      0.75      0.74      1324\n",
            "\n",
            "accuracy is  0.7469788519637462\n"
          ]
        }
      ]
    },
    {
      "cell_type": "markdown",
      "source": [
        "Wir sehen, daß wir mit einer höheren Tiefe zwar deutlich besser sind als mit einer geringeren, aber dafür schlechter als mit dem Standardwert von 3 - auch wenn das nur eine geringer Unterschied ist.\n",
        "\n",
        "Aber wie wählt man nun die besten Werte? Und das für mehr als einen Hyperparameter? \n",
        "\n",
        "Das schauen wir uns im nächsten Abschnitt an."
      ],
      "metadata": {
        "id": "U8VRu_dMc-Nz"
      }
    },
    {
      "cell_type": "markdown",
      "source": [
        "### 3.3.3 GridSearch"
      ],
      "metadata": {
        "id": "-oPUnJWhdSw7"
      }
    },
    {
      "cell_type": "markdown",
      "source": [
        "Bei GridSearch definieren wir für ausgewählte Parameter jeweils eine bestimmte Reichweite für jeden der ausgewählten Parameter. Gridsearch probiert dann jede einzelne Kombinatorik der Parameter aus, was recht lange dauern kann.\n",
        "\n",
        "Anschließend können wir uns die beste Kombination anzeigen lassen und die dann weiter verwenden.\n",
        "\n",
        "Für das Beispiel hier, wählen wir 3 Paramater aus. Dies macht man auch oft sequentiell für einzelne Parameter und nimmt erst dann neue Parameter hinzu, wenn man mit einem Parameter zufrieden ist. Eine genauere Darstellung finden Sie unter [Link](https://www.analyticsvidhya.com/blog/2016/03/complete-guide-parameter-tuning-xgboost-with-codes-python/).\n"
      ],
      "metadata": {
        "id": "y_sAuX20djg6"
      }
    },
    {
      "cell_type": "code",
      "source": [
        "param_grid_XGBR = {\n",
        "    'max_depth' : [1, 3, 6, 11], \n",
        "    'eta' : [0.01, 0.3, 0.5, 1], \n",
        "    'min_child_weight' : [1, 3, 10]\n",
        "}"
      ],
      "metadata": {
        "id": "6-yiRu-ked09"
      },
      "execution_count": null,
      "outputs": []
    },
    {
      "cell_type": "code",
      "source": [
        "from sklearn.model_selection import GridSearchCV, cross_val_predict\n",
        "\n",
        "XGB_clf_grid = xgb.XGBClassifier()\n",
        "\n",
        "GridSearch_XGBoost = GridSearchCV(estimator = XGB_clf_grid,\n",
        "                                  param_grid = param_grid_XGBR,\n",
        "                                  scoring='accuracy',\n",
        "                                  refit = True)\n",
        "\n",
        "GridSearch_XGBoost.fit(X_train, y_train)"
      ],
      "metadata": {
        "colab": {
          "base_uri": "https://localhost:8080/"
        },
        "id": "tyoUc0Ptfwpb",
        "outputId": "6a5f5c46-2e8d-4ce6-b79b-cb1b3073e43e"
      },
      "execution_count": null,
      "outputs": [
        {
          "output_type": "execute_result",
          "data": {
            "text/plain": [
              "GridSearchCV(estimator=XGBClassifier(),\n",
              "             param_grid={'eta': [0.01, 0.3, 0.5, 1],\n",
              "                         'gamma': [0.5, 1, 1.5, 2, 5],\n",
              "                         'max_depth': [1, 3, 6, 11],\n",
              "                         'min_child_weight': [1, 3, 10]},\n",
              "             scoring='accuracy')"
            ]
          },
          "metadata": {},
          "execution_count": 68
        }
      ]
    },
    {
      "cell_type": "markdown",
      "source": [
        "Das Trainieren dauert einige Zeit, da für jede der möglichen Kombinationen das Modell trainiert wird und geschaut wird, wie gut die Ergebnisse sind.\n",
        "\n",
        "Falls Ihnen das Trainieren und Suchen zu lange dauert, so kommentieren Sie doch einfach für param_grid_XGBR alle Parameter bis auf max_depth aus- in dem Fall sehen Sie dann daß der Suchprozess das gleiche durchführt, wie wir in Abschnitt 3.3.2.\n",
        "\n",
        "Sobald alles ausprobiert wurde, können wir uns die besten Parameter anzeigen lassen:"
      ],
      "metadata": {
        "id": "VawD5ypPhRQz"
      }
    },
    {
      "cell_type": "code",
      "source": [
        "GridSearch_XGBoost.best_params_, GridSearch_XGBoost.best_score_"
      ],
      "metadata": {
        "colab": {
          "base_uri": "https://localhost:8080/"
        },
        "id": "Bk3iN8UIhf-d",
        "outputId": "932f5b14-2677-4aba-af9f-f5da4b1f0fa0"
      },
      "execution_count": null,
      "outputs": [
        {
          "output_type": "execute_result",
          "data": {
            "text/plain": [
              "({'eta': 0.01, 'gamma': 1.5, 'max_depth': 6, 'min_child_weight': 10},\n",
              " 0.7496713925298841)"
            ]
          },
          "metadata": {},
          "execution_count": 69
        }
      ]
    },
    {
      "cell_type": "markdown",
      "source": [
        "Zusätzlich können wir das beste Modell, d.h. den best_estimator nehmen und den auf die vorher nicht gesehenen Daten anwenden und sollten jetzt ein besseres Ergebnis für die Genauigkeit erhalten als zuvor...."
      ],
      "metadata": {
        "id": "M6Adk6emhjwy"
      }
    },
    {
      "cell_type": "code",
      "source": [
        "y_pred_XGBT_Grid = GridSearch_XGBoost.best_estimator_.predict(X_test)\n",
        "Model_accuracy(y_pred_XGBT_Grid, y_test)"
      ],
      "metadata": {
        "colab": {
          "base_uri": "https://localhost:8080/"
        },
        "id": "_kuGrUhOhkSj",
        "outputId": "e412a354-b0e2-43f5-8f49-39e5aebc953f"
      },
      "execution_count": null,
      "outputs": [
        {
          "output_type": "stream",
          "name": "stdout",
          "text": [
            "[[669  97]\n",
            " [224 334]]\n",
            "              precision    recall  f1-score   support\n",
            "\n",
            "           0       0.75      0.87      0.81       766\n",
            "           1       0.77      0.60      0.68       558\n",
            "\n",
            "    accuracy                           0.76      1324\n",
            "   macro avg       0.76      0.74      0.74      1324\n",
            "weighted avg       0.76      0.76      0.75      1324\n",
            "\n",
            "accuracy is  0.7575528700906344\n"
          ]
        }
      ]
    },
    {
      "cell_type": "markdown",
      "source": [
        "Und wir sehen mit 75,7% haben wir bis jetzt das beste Modell erhalten"
      ],
      "metadata": {
        "id": "W7pdhf-cHYp_"
      }
    },
    {
      "cell_type": "markdown",
      "metadata": {
        "id": "fzSbhzRqw9Yp"
      },
      "source": [
        "## Zum Schluß: das Modell im Einsatz"
      ]
    },
    {
      "cell_type": "markdown",
      "metadata": {
        "id": "QBZaWQS9xAWZ"
      },
      "source": [
        "Wir testen jetzt wie das Modell im Einsatz wäre....und zwar an beliebigen Patienten.\n",
        "\n",
        "Dafür definieren wir einen Patienten mit zufälligen Werten:"
      ]
    },
    {
      "cell_type": "code",
      "source": [
        "Patient = [[35.1, #HAEMATOCRIT\n",
        "            11.8, #HAEMOGLOBINS\n",
        "            4.65, # ERYTHROCYTE\n",
        "            6.3, # LEUCOCYTE\n",
        "            310.0, # THROMBOCYTE\n",
        "            25.4, # MCH\n",
        "            33.6, # MCHC\n",
        "            75.5, # MCV\n",
        "            12.0, # AGE\n",
        "            1.0]] # Sex"
      ],
      "metadata": {
        "id": "t_LcaPHlNhu1"
      },
      "execution_count": null,
      "outputs": []
    },
    {
      "cell_type": "markdown",
      "source": [
        "ACHTUNG! XGBoost hat noch einen kleinen Bug, den wir aber wie folgt umgehen können...(Quelle hierfür war Stackoverflow: [Link](https://stackoverflow.com/questions/42338972/valueerror-feature-names-mismatch-in-xgboost-in-the-predict-function))"
      ],
      "metadata": {
        "id": "aNH1mHlpZwOx"
      }
    },
    {
      "cell_type": "code",
      "source": [
        "Patient_df = pd.DataFrame(Patient, columns = X_test.columns, dtype=float)"
      ],
      "metadata": {
        "id": "Qk6hwNT2ZZ1k"
      },
      "execution_count": null,
      "outputs": []
    },
    {
      "cell_type": "code",
      "metadata": {
        "colab": {
          "base_uri": "https://localhost:8080/"
        },
        "id": "netZ0lBEw_6_",
        "outputId": "7c4e471b-72ac-449b-a83b-3fe1cfeeffcb"
      },
      "source": [
        "if (GridSearch_XGBoost.best_estimator_.predict(Patient_df) == 0):\n",
        "  print(\"Patient wird ambulant behandelt\")\n",
        "else:\n",
        "  print(\"Patient bleibt stationär\")\n",
        "\n",
        "# alternativ geht auch folgende Schreibweise:\n",
        "#print(\"Patient wird ambulant behandelt\") if GridSearch_XGBoost.best_estimator_.predict(Patient) == 0 else print(\"Patient bleibt stationär\")"
      ],
      "execution_count": null,
      "outputs": [
        {
          "output_type": "stream",
          "name": "stdout",
          "text": [
            "Patient wird ambulant behandelt\n"
          ]
        }
      ]
    }
  ]
}